{
  "nbformat": 4,
  "nbformat_minor": 0,
  "metadata": {
    "colab": {
      "provenance": [],
      "collapsed_sections": [
        "Fd_kcpehto9l"
      ],
      "include_colab_link": true
    },
    "kernelspec": {
      "name": "python3",
      "display_name": "Python 3"
    },
    "language_info": {
      "name": "python"
    }
  },
  "cells": [
    {
      "cell_type": "markdown",
      "metadata": {
        "id": "view-in-github",
        "colab_type": "text"
      },
      "source": [
        "<a href=\"https://colab.research.google.com/github/CaptainChuenthavorn/Data-Analytics2022s/blob/main/DA_Assignment_1_Version7.ipynb\" target=\"_parent\"><img src=\"https://colab.research.google.com/assets/colab-badge.svg\" alt=\"Open In Colab\"/></a>"
      ]
    },
    {
      "cell_type": "markdown",
      "source": [
        "VERSION 1 = >\n",
        "1. Drop outlier on x3 x8\n",
        "2. Imputation with median\n",
        "3. Drop outlier\n",
        "4. replace imptation with mean\n",
        "5. take log\n",
        "6. Regression"
      ],
      "metadata": {
        "id": "ysGqjs3huulq"
      }
    },
    {
      "cell_type": "code",
      "source": [],
      "metadata": {
        "id": "M1nAyvwJuy8w"
      },
      "execution_count": null,
      "outputs": []
    },
    {
      "cell_type": "code",
      "execution_count": null,
      "metadata": {
        "id": "g_cjdgVxnRe0"
      },
      "outputs": [],
      "source": [
        "import numpy as np\n",
        "import pandas as pd"
      ]
    },
    {
      "cell_type": "code",
      "source": [
        "A_train_path = \"https://raw.githubusercontent.com/CaptainChuenthavorn/Data-Analytics2022s/main/Assignment1/A-train.csv\"\n",
        "A_test_path = \"https://raw.githubusercontent.com/CaptainChuenthavorn/Data-Analytics2022s/main/Assignment1/A-test.csv\"\n",
        "B_train_path = \"https://raw.githubusercontent.com/CaptainChuenthavorn/Data-Analytics2022s/main/Assignment1/B-train.csv\"\n",
        "B_test_path = \"https://raw.githubusercontent.com/CaptainChuenthavorn/Data-Analytics2022s/main/Assignment1/B-test.csv\""
      ],
      "metadata": {
        "id": "ozI96jbananB"
      },
      "execution_count": null,
      "outputs": []
    },
    {
      "cell_type": "code",
      "source": [
        "df = pd.read_csv(A_train_path)\n",
        "df_ori = pd.read_csv(A_train_path)\n",
        "df_test = pd.read_csv(A_test_path)"
      ],
      "metadata": {
        "id": "oCJ06pIMna9H"
      },
      "execution_count": null,
      "outputs": []
    },
    {
      "cell_type": "code",
      "source": [
        "df.describe()"
      ],
      "metadata": {
        "colab": {
          "base_uri": "https://localhost:8080/",
          "height": 300
        },
        "id": "-bQXjcxGneL3",
        "outputId": "4d3176ed-5aa4-4d22-8a7a-34be72b09a24"
      },
      "execution_count": null,
      "outputs": [
        {
          "output_type": "execute_result",
          "data": {
            "text/plain": [
              "                x1           x2           x3            x4          x5  \\\n",
              "count   181.000000   180.000000   180.000000  1.810000e+02  180.000000   \n",
              "mean      6.314309     6.777722     2.463778  1.386800e+05   -0.053111   \n",
              "std     386.982400   363.353742   453.783083  8.599234e+05   35.906821   \n",
              "min   -2749.920000 -2327.200000 -2771.100000  4.800000e-01 -234.990000   \n",
              "25%     -62.680000   -61.442500   -60.385000  1.266650e+03   -6.060000   \n",
              "50%      12.210000    12.595000     1.815000  4.546800e+03   -0.760000   \n",
              "75%      75.650000    81.890000    53.740000  1.289133e+04    6.667500   \n",
              "max    2244.880000  2333.520000  3155.310000  6.083820e+06  226.260000   \n",
              "\n",
              "               x6          x7          x8           y  \n",
              "count  180.000000  180.000000  181.000000  188.000000  \n",
              "mean     1.386444   -0.243444   -0.412652    3.949309  \n",
              "std     32.370122   34.640373   31.525100    8.350511  \n",
              "min   -223.920000 -225.450000 -194.560000  -15.510000  \n",
              "25%     -4.710000   -5.907500   -7.200000   -2.260000  \n",
              "50%      2.180000   -0.295000   -0.160000    3.555000  \n",
              "75%      8.462500    6.075000    6.600000   10.620000  \n",
              "max    188.880000  220.950000  207.040000   28.200000  "
            ],
            "text/html": [
              "\n",
              "  <div id=\"df-2664d1ef-3cfc-40bf-ba5e-0740c85d3815\">\n",
              "    <div class=\"colab-df-container\">\n",
              "      <div>\n",
              "<style scoped>\n",
              "    .dataframe tbody tr th:only-of-type {\n",
              "        vertical-align: middle;\n",
              "    }\n",
              "\n",
              "    .dataframe tbody tr th {\n",
              "        vertical-align: top;\n",
              "    }\n",
              "\n",
              "    .dataframe thead th {\n",
              "        text-align: right;\n",
              "    }\n",
              "</style>\n",
              "<table border=\"1\" class=\"dataframe\">\n",
              "  <thead>\n",
              "    <tr style=\"text-align: right;\">\n",
              "      <th></th>\n",
              "      <th>x1</th>\n",
              "      <th>x2</th>\n",
              "      <th>x3</th>\n",
              "      <th>x4</th>\n",
              "      <th>x5</th>\n",
              "      <th>x6</th>\n",
              "      <th>x7</th>\n",
              "      <th>x8</th>\n",
              "      <th>y</th>\n",
              "    </tr>\n",
              "  </thead>\n",
              "  <tbody>\n",
              "    <tr>\n",
              "      <th>count</th>\n",
              "      <td>181.000000</td>\n",
              "      <td>180.000000</td>\n",
              "      <td>180.000000</td>\n",
              "      <td>1.810000e+02</td>\n",
              "      <td>180.000000</td>\n",
              "      <td>180.000000</td>\n",
              "      <td>180.000000</td>\n",
              "      <td>181.000000</td>\n",
              "      <td>188.000000</td>\n",
              "    </tr>\n",
              "    <tr>\n",
              "      <th>mean</th>\n",
              "      <td>6.314309</td>\n",
              "      <td>6.777722</td>\n",
              "      <td>2.463778</td>\n",
              "      <td>1.386800e+05</td>\n",
              "      <td>-0.053111</td>\n",
              "      <td>1.386444</td>\n",
              "      <td>-0.243444</td>\n",
              "      <td>-0.412652</td>\n",
              "      <td>3.949309</td>\n",
              "    </tr>\n",
              "    <tr>\n",
              "      <th>std</th>\n",
              "      <td>386.982400</td>\n",
              "      <td>363.353742</td>\n",
              "      <td>453.783083</td>\n",
              "      <td>8.599234e+05</td>\n",
              "      <td>35.906821</td>\n",
              "      <td>32.370122</td>\n",
              "      <td>34.640373</td>\n",
              "      <td>31.525100</td>\n",
              "      <td>8.350511</td>\n",
              "    </tr>\n",
              "    <tr>\n",
              "      <th>min</th>\n",
              "      <td>-2749.920000</td>\n",
              "      <td>-2327.200000</td>\n",
              "      <td>-2771.100000</td>\n",
              "      <td>4.800000e-01</td>\n",
              "      <td>-234.990000</td>\n",
              "      <td>-223.920000</td>\n",
              "      <td>-225.450000</td>\n",
              "      <td>-194.560000</td>\n",
              "      <td>-15.510000</td>\n",
              "    </tr>\n",
              "    <tr>\n",
              "      <th>25%</th>\n",
              "      <td>-62.680000</td>\n",
              "      <td>-61.442500</td>\n",
              "      <td>-60.385000</td>\n",
              "      <td>1.266650e+03</td>\n",
              "      <td>-6.060000</td>\n",
              "      <td>-4.710000</td>\n",
              "      <td>-5.907500</td>\n",
              "      <td>-7.200000</td>\n",
              "      <td>-2.260000</td>\n",
              "    </tr>\n",
              "    <tr>\n",
              "      <th>50%</th>\n",
              "      <td>12.210000</td>\n",
              "      <td>12.595000</td>\n",
              "      <td>1.815000</td>\n",
              "      <td>4.546800e+03</td>\n",
              "      <td>-0.760000</td>\n",
              "      <td>2.180000</td>\n",
              "      <td>-0.295000</td>\n",
              "      <td>-0.160000</td>\n",
              "      <td>3.555000</td>\n",
              "    </tr>\n",
              "    <tr>\n",
              "      <th>75%</th>\n",
              "      <td>75.650000</td>\n",
              "      <td>81.890000</td>\n",
              "      <td>53.740000</td>\n",
              "      <td>1.289133e+04</td>\n",
              "      <td>6.667500</td>\n",
              "      <td>8.462500</td>\n",
              "      <td>6.075000</td>\n",
              "      <td>6.600000</td>\n",
              "      <td>10.620000</td>\n",
              "    </tr>\n",
              "    <tr>\n",
              "      <th>max</th>\n",
              "      <td>2244.880000</td>\n",
              "      <td>2333.520000</td>\n",
              "      <td>3155.310000</td>\n",
              "      <td>6.083820e+06</td>\n",
              "      <td>226.260000</td>\n",
              "      <td>188.880000</td>\n",
              "      <td>220.950000</td>\n",
              "      <td>207.040000</td>\n",
              "      <td>28.200000</td>\n",
              "    </tr>\n",
              "  </tbody>\n",
              "</table>\n",
              "</div>\n",
              "      <button class=\"colab-df-convert\" onclick=\"convertToInteractive('df-2664d1ef-3cfc-40bf-ba5e-0740c85d3815')\"\n",
              "              title=\"Convert this dataframe to an interactive table.\"\n",
              "              style=\"display:none;\">\n",
              "        \n",
              "  <svg xmlns=\"http://www.w3.org/2000/svg\" height=\"24px\"viewBox=\"0 0 24 24\"\n",
              "       width=\"24px\">\n",
              "    <path d=\"M0 0h24v24H0V0z\" fill=\"none\"/>\n",
              "    <path d=\"M18.56 5.44l.94 2.06.94-2.06 2.06-.94-2.06-.94-.94-2.06-.94 2.06-2.06.94zm-11 1L8.5 8.5l.94-2.06 2.06-.94-2.06-.94L8.5 2.5l-.94 2.06-2.06.94zm10 10l.94 2.06.94-2.06 2.06-.94-2.06-.94-.94-2.06-.94 2.06-2.06.94z\"/><path d=\"M17.41 7.96l-1.37-1.37c-.4-.4-.92-.59-1.43-.59-.52 0-1.04.2-1.43.59L10.3 9.45l-7.72 7.72c-.78.78-.78 2.05 0 2.83L4 21.41c.39.39.9.59 1.41.59.51 0 1.02-.2 1.41-.59l7.78-7.78 2.81-2.81c.8-.78.8-2.07 0-2.86zM5.41 20L4 18.59l7.72-7.72 1.47 1.35L5.41 20z\"/>\n",
              "  </svg>\n",
              "      </button>\n",
              "      \n",
              "  <style>\n",
              "    .colab-df-container {\n",
              "      display:flex;\n",
              "      flex-wrap:wrap;\n",
              "      gap: 12px;\n",
              "    }\n",
              "\n",
              "    .colab-df-convert {\n",
              "      background-color: #E8F0FE;\n",
              "      border: none;\n",
              "      border-radius: 50%;\n",
              "      cursor: pointer;\n",
              "      display: none;\n",
              "      fill: #1967D2;\n",
              "      height: 32px;\n",
              "      padding: 0 0 0 0;\n",
              "      width: 32px;\n",
              "    }\n",
              "\n",
              "    .colab-df-convert:hover {\n",
              "      background-color: #E2EBFA;\n",
              "      box-shadow: 0px 1px 2px rgba(60, 64, 67, 0.3), 0px 1px 3px 1px rgba(60, 64, 67, 0.15);\n",
              "      fill: #174EA6;\n",
              "    }\n",
              "\n",
              "    [theme=dark] .colab-df-convert {\n",
              "      background-color: #3B4455;\n",
              "      fill: #D2E3FC;\n",
              "    }\n",
              "\n",
              "    [theme=dark] .colab-df-convert:hover {\n",
              "      background-color: #434B5C;\n",
              "      box-shadow: 0px 1px 3px 1px rgba(0, 0, 0, 0.15);\n",
              "      filter: drop-shadow(0px 1px 2px rgba(0, 0, 0, 0.3));\n",
              "      fill: #FFFFFF;\n",
              "    }\n",
              "  </style>\n",
              "\n",
              "      <script>\n",
              "        const buttonEl =\n",
              "          document.querySelector('#df-2664d1ef-3cfc-40bf-ba5e-0740c85d3815 button.colab-df-convert');\n",
              "        buttonEl.style.display =\n",
              "          google.colab.kernel.accessAllowed ? 'block' : 'none';\n",
              "\n",
              "        async function convertToInteractive(key) {\n",
              "          const element = document.querySelector('#df-2664d1ef-3cfc-40bf-ba5e-0740c85d3815');\n",
              "          const dataTable =\n",
              "            await google.colab.kernel.invokeFunction('convertToInteractive',\n",
              "                                                     [key], {});\n",
              "          if (!dataTable) return;\n",
              "\n",
              "          const docLinkHtml = 'Like what you see? Visit the ' +\n",
              "            '<a target=\"_blank\" href=https://colab.research.google.com/notebooks/data_table.ipynb>data table notebook</a>'\n",
              "            + ' to learn more about interactive tables.';\n",
              "          element.innerHTML = '';\n",
              "          dataTable['output_type'] = 'display_data';\n",
              "          await google.colab.output.renderOutput(dataTable, element);\n",
              "          const docLink = document.createElement('div');\n",
              "          docLink.innerHTML = docLinkHtml;\n",
              "          element.appendChild(docLink);\n",
              "        }\n",
              "      </script>\n",
              "    </div>\n",
              "  </div>\n",
              "  "
            ]
          },
          "metadata": {},
          "execution_count": 1117
        }
      ]
    },
    {
      "cell_type": "code",
      "source": [
        "df['x1'].median()"
      ],
      "metadata": {
        "colab": {
          "base_uri": "https://localhost:8080/"
        },
        "id": "N3PkjIdunnyh",
        "outputId": "f9f5f244-d4b4-4dea-ac40-407fdaf7332a"
      },
      "execution_count": null,
      "outputs": [
        {
          "output_type": "execute_result",
          "data": {
            "text/plain": [
              "12.21"
            ]
          },
          "metadata": {},
          "execution_count": 1118
        }
      ]
    },
    {
      "cell_type": "markdown",
      "source": [
        "Check NaN"
      ],
      "metadata": {
        "id": "xDq9qXqtn2YK"
      }
    },
    {
      "cell_type": "markdown",
      "source": [
        "#  drop x3 and x8 outlier"
      ],
      "metadata": {
        "id": "YeD4qENa-b8v"
      }
    },
    {
      "cell_type": "code",
      "source": [
        "df.isnull().sum().sum()"
      ],
      "metadata": {
        "colab": {
          "base_uri": "https://localhost:8080/"
        },
        "id": "Wtsl5xOWn6co",
        "outputId": "dcbb4476-edc9-4ec7-d0f2-e41c80cd2ca7"
      },
      "execution_count": null,
      "outputs": [
        {
          "output_type": "execute_result",
          "data": {
            "text/plain": [
              "79"
            ]
          },
          "metadata": {},
          "execution_count": 1119
        }
      ]
    },
    {
      "cell_type": "code",
      "source": [
        "df['x3'].isnull().sum()"
      ],
      "metadata": {
        "colab": {
          "base_uri": "https://localhost:8080/"
        },
        "id": "HyY1wtMDxi_N",
        "outputId": "a275b32b-499b-4e9f-f1b5-9726b28829f0"
      },
      "execution_count": null,
      "outputs": [
        {
          "output_type": "execute_result",
          "data": {
            "text/plain": [
              "10"
            ]
          },
          "metadata": {},
          "execution_count": 1120
        }
      ]
    },
    {
      "cell_type": "code",
      "source": [
        "df.dropna(subset=['x3'], inplace=True)"
      ],
      "metadata": {
        "id": "ZYCq8C_tyTId"
      },
      "execution_count": null,
      "outputs": []
    },
    {
      "cell_type": "code",
      "source": [
        "df['x3'].isnull().sum()"
      ],
      "metadata": {
        "colab": {
          "base_uri": "https://localhost:8080/"
        },
        "id": "rjd-SlOwyU91",
        "outputId": "79f98e02-5e7a-4cef-ed6c-8370637df8b1"
      },
      "execution_count": null,
      "outputs": [
        {
          "output_type": "execute_result",
          "data": {
            "text/plain": [
              "0"
            ]
          },
          "metadata": {},
          "execution_count": 1122
        }
      ]
    },
    {
      "cell_type": "code",
      "source": [
        "df['x8'].isnull().sum()"
      ],
      "metadata": {
        "colab": {
          "base_uri": "https://localhost:8080/"
        },
        "id": "w3TPBV-Fxsad",
        "outputId": "9daa7fde-1143-449d-939b-2e6f02a3afbc"
      },
      "execution_count": null,
      "outputs": [
        {
          "output_type": "execute_result",
          "data": {
            "text/plain": [
              "9"
            ]
          },
          "metadata": {},
          "execution_count": 1123
        }
      ]
    },
    {
      "cell_type": "code",
      "source": [
        "df.dropna(subset=['x8'], inplace=True)"
      ],
      "metadata": {
        "id": "8jEMSvM6y5cu"
      },
      "execution_count": null,
      "outputs": []
    },
    {
      "cell_type": "code",
      "source": [
        "df['x8'].isnull().sum()"
      ],
      "metadata": {
        "colab": {
          "base_uri": "https://localhost:8080/"
        },
        "id": "0GckNyBty6BF",
        "outputId": "843e18e2-3ebe-4cbe-c282-7f71739efec7"
      },
      "execution_count": null,
      "outputs": [
        {
          "output_type": "execute_result",
          "data": {
            "text/plain": [
              "0"
            ]
          },
          "metadata": {},
          "execution_count": 1125
        }
      ]
    },
    {
      "cell_type": "markdown",
      "source": [
        "## 1. Imputation with median"
      ],
      "metadata": {
        "id": "CNeKlwq6nvfQ"
      }
    },
    {
      "cell_type": "code",
      "source": [
        "df.dropna(subset = [\"y\"], inplace=True)"
      ],
      "metadata": {
        "id": "sn8-tPBy7J_2"
      },
      "execution_count": null,
      "outputs": []
    },
    {
      "cell_type": "code",
      "source": [
        "med_value_list = []\n",
        "med_value_list_test=[]\n",
        "for j in range(8):\n",
        "  col_name = 'x'+str(j+1)\n",
        "  \n",
        "  med_value=df[col_name].median()\n",
        "  med_value_list.append(med_value)\n",
        "  print(col_name,'mean value',med_value)\n",
        "  \n",
        "  df[col_name].fillna(value=med_value,inplace=True)\n",
        "\n",
        "\n",
        "  med_value_test=df_test[col_name].median()\n",
        "  med_value_list_test.append(med_value_test)\n",
        "  print(col_name,'mean value',med_value_test)\n",
        "  \n",
        "  df_test[col_name].fillna(value=med_value_test,inplace=True)"
      ],
      "metadata": {
        "colab": {
          "base_uri": "https://localhost:8080/"
        },
        "id": "hF2LIcBlneWf",
        "outputId": "e06888e1-a4f2-4ad8-8276-dfaff9d8f0da"
      },
      "execution_count": null,
      "outputs": [
        {
          "output_type": "stream",
          "name": "stdout",
          "text": [
            "x1 mean value 9.42\n",
            "x1 mean value 12.02\n",
            "x2 mean value 11.27\n",
            "x2 mean value 17.79\n",
            "x3 mean value 5.01\n",
            "x3 mean value -16.47\n",
            "x4 mean value 4371.325000000001\n",
            "x4 mean value 2401.98\n",
            "x5 mean value -1.105\n",
            "x5 mean value -0.91\n",
            "x6 mean value 2.21\n",
            "x6 mean value -1.04\n",
            "x7 mean value -0.405\n",
            "x7 mean value -1.36\n",
            "x8 mean value -0.16\n",
            "x8 mean value -0.83\n"
          ]
        }
      ]
    },
    {
      "cell_type": "code",
      "source": [
        "df.isnull().sum().sum()"
      ],
      "metadata": {
        "colab": {
          "base_uri": "https://localhost:8080/"
        },
        "id": "echr0n7en7cn",
        "outputId": "37017dbf-5d81-4888-ba33-2c68af5e22e7"
      },
      "execution_count": null,
      "outputs": [
        {
          "output_type": "execute_result",
          "data": {
            "text/plain": [
              "0"
            ]
          },
          "metadata": {},
          "execution_count": 1128
        }
      ]
    },
    {
      "cell_type": "code",
      "source": [
        "#df.dropna(subset = [\"y\"], inplace=True)"
      ],
      "metadata": {
        "id": "qmr0YRmMn8Q3"
      },
      "execution_count": null,
      "outputs": []
    },
    {
      "cell_type": "code",
      "source": [
        "df.isnull().sum().sum()"
      ],
      "metadata": {
        "colab": {
          "base_uri": "https://localhost:8080/"
        },
        "id": "Jx-83hV6oM6c",
        "outputId": "448aaf3b-0bc4-4dc9-d891-ef910d6c2664"
      },
      "execution_count": null,
      "outputs": [
        {
          "output_type": "execute_result",
          "data": {
            "text/plain": [
              "0"
            ]
          },
          "metadata": {},
          "execution_count": 1130
        }
      ]
    },
    {
      "cell_type": "markdown",
      "source": [
        "## 2. Handle Outlier CAP this out"
      ],
      "metadata": {
        "id": "1V2M2WpGoBEB"
      }
    },
    {
      "cell_type": "markdown",
      "source": [],
      "metadata": {
        "id": "-JQz7ll3oBC9"
      }
    },
    {
      "cell_type": "code",
      "source": [
        "len(df.index)"
      ],
      "metadata": {
        "colab": {
          "base_uri": "https://localhost:8080/"
        },
        "id": "oeJrKMM1CaIv",
        "outputId": "d4b01756-0dee-4353-9351-cc197ee5ec2c"
      },
      "execution_count": null,
      "outputs": [
        {
          "output_type": "execute_result",
          "data": {
            "text/plain": [
              "169"
            ]
          },
          "metadata": {},
          "execution_count": 1131
        }
      ]
    },
    {
      "cell_type": "code",
      "source": [
        "df.plot.box()"
      ],
      "metadata": {
        "colab": {
          "base_uri": "https://localhost:8080/",
          "height": 293
        },
        "id": "E2o_K8POoIx3",
        "outputId": "0d7698c9-8359-4557-9336-5a45afbd14c3"
      },
      "execution_count": null,
      "outputs": [
        {
          "output_type": "execute_result",
          "data": {
            "text/plain": [
              "<matplotlib.axes._subplots.AxesSubplot at 0x7f86aeed4dd0>"
            ]
          },
          "metadata": {},
          "execution_count": 1132
        },
        {
          "output_type": "display_data",
          "data": {
            "text/plain": [
              "<Figure size 432x288 with 1 Axes>"
            ],
            "image/png": "[encoded data removed]"
          },
          "metadata": {
            "needs_background": "light"
          }
        }
      ]
    },
    {
      "cell_type": "code",
      "source": [
        "def remove_outlier(df_in, col_name):\n",
        "    q1 = df_in[col_name].quantile(0.25)\n",
        "    q3 = df_in[col_name].quantile(0.75)\n",
        "    iqr = q3-q1 #Interquartile range\n",
        "    fence_low  = q1-1.5*iqr\n",
        "    fence_high = q3+1.5*iqr\n",
        "    df_out = df_in.loc[(df_in[col_name] > fence_low) & (df_in[col_name] < fence_high)]\n",
        "    return df_out"
      ],
      "metadata": {
        "id": "qkZ88SB6n-MY"
      },
      "execution_count": null,
      "outputs": []
    },
    {
      "cell_type": "code",
      "source": [
        "print(len(df.index))"
      ],
      "metadata": {
        "colab": {
          "base_uri": "https://localhost:8080/"
        },
        "id": "oRPndQP6oILo",
        "outputId": "69e5d6d8-4adb-4755-a916-e8774aad4f58"
      },
      "execution_count": null,
      "outputs": [
        {
          "output_type": "stream",
          "name": "stdout",
          "text": [
            "169\n"
          ]
        }
      ]
    },
    {
      "cell_type": "code",
      "source": [
        "for j in range(2):\n",
        "  col_name = 'x'+str(j+1)\n",
        "  df = remove_outlier(df,col_name)\n",
        "  print('fill',col_name,'sucess!')"
      ],
      "metadata": {
        "id": "AnE4jUtluUBp",
        "colab": {
          "base_uri": "https://localhost:8080/"
        },
        "outputId": "be3f4f8a-1d36-49ca-e4af-f501cb2dc32b"
      },
      "execution_count": null,
      "outputs": [
        {
          "output_type": "stream",
          "name": "stdout",
          "text": [
            "fill x1 sucess!\n",
            "fill x2 sucess!\n"
          ]
        }
      ]
    },
    {
      "cell_type": "code",
      "source": [
        "df.boxplot()"
      ],
      "metadata": {
        "colab": {
          "base_uri": "https://localhost:8080/",
          "height": 293
        },
        "id": "T23aEmYlGRB0",
        "outputId": "56c59308-47bf-4822-9788-a9863ac4b098"
      },
      "execution_count": null,
      "outputs": [
        {
          "output_type": "execute_result",
          "data": {
            "text/plain": [
              "<matplotlib.axes._subplots.AxesSubplot at 0x7f86aecbd1d0>"
            ]
          },
          "metadata": {},
          "execution_count": 1136
        },
        {
          "output_type": "display_data",
          "data": {
            "text/plain": [
              "<Figure size 432x288 with 1 Axes>"
            ],
            "image/png": "[encoded data removed]"
          },
          "metadata": {
            "needs_background": "light"
          }
        }
      ]
    },
    {
      "cell_type": "code",
      "source": [
        "print(len(df.index))"
      ],
      "metadata": {
        "colab": {
          "base_uri": "https://localhost:8080/"
        },
        "id": "i7NSzPamGRAL",
        "outputId": "b6ac1be9-fcb8-4eae-d615-bf20ef6a85f7"
      },
      "execution_count": null,
      "outputs": [
        {
          "output_type": "stream",
          "name": "stdout",
          "text": [
            "158\n"
          ]
        }
      ]
    },
    {
      "cell_type": "code",
      "source": [
        "def cap_outlier(df_in, col_name):\n",
        "    q1 = df_in[col_name].quantile(0.25)\n",
        "    q3 = df_in[col_name].quantile(0.75)\n",
        "    iqr = q3-q1 #Interquartile range\n",
        "    fence_low  = q1-1.5*iqr\n",
        "    fence_high = q3+1.5*iqr\n",
        "    lst=[fence_low,fence_high]\n",
        "\n",
        "    #df_out = df_in.loc[(df_in[col_name] > fence_low) & (df_in[col_name] < fence_high)]\n",
        "    return fence_low,fence_high"
      ],
      "metadata": {
        "id": "P6g3dJnJCyG4"
      },
      "execution_count": null,
      "outputs": []
    },
    {
      "cell_type": "code",
      "source": [
        "for i in range(8):\n",
        "  col_name = 'x'+str(i+1)\n",
        "  \n",
        "  fence_low,fence_high = cap_outlier(df,col_name)\n",
        "  print(fence_low,fence_high)\n",
        "  df[col_name].values[df[col_name].values < fence_low] = fence_low\n",
        "  df[col_name].values[df[col_name].values > fence_high] = fence_high\n"
      ],
      "metadata": {
        "id": "zvskDHkAC0o3",
        "colab": {
          "base_uri": "https://localhost:8080/"
        },
        "outputId": "ef716fc1-a559-432a-a2dc-2071e9ea0ff2"
      },
      "execution_count": null,
      "outputs": [
        {
          "output_type": "stream",
          "name": "stdout",
          "text": [
            "-229.32625000000002 246.06375000000003\n",
            "-247.87625 272.71375\n",
            "-239.26375000000002 232.98624999999998\n",
            "-14140.975 27004.505\n",
            "-22.4675 23.7325\n",
            "-21.224999999999998 26.074999999999996\n",
            "-22.371249999999996 22.498749999999998\n",
            "-29.869999999999997 28.09\n"
          ]
        }
      ]
    },
    {
      "cell_type": "code",
      "source": [
        "print(len(df.index))"
      ],
      "metadata": {
        "colab": {
          "base_uri": "https://localhost:8080/"
        },
        "id": "fX5aNvUOujBi",
        "outputId": "e32134c0-9d07-417a-91fe-94e58e08b947"
      },
      "execution_count": null,
      "outputs": [
        {
          "output_type": "stream",
          "name": "stdout",
          "text": [
            "158\n"
          ]
        }
      ]
    },
    {
      "cell_type": "code",
      "source": [
        "df.plot.box()"
      ],
      "metadata": {
        "colab": {
          "base_uri": "https://localhost:8080/",
          "height": 282
        },
        "id": "YxeXF5gWoPxq",
        "outputId": "6614a69f-f154-4b71-aa1b-79da6ed3b99b"
      },
      "execution_count": null,
      "outputs": [
        {
          "output_type": "execute_result",
          "data": {
            "text/plain": [
              "<matplotlib.axes._subplots.AxesSubplot at 0x7f86aeb8f210>"
            ]
          },
          "metadata": {},
          "execution_count": 1141
        },
        {
          "output_type": "display_data",
          "data": {
            "text/plain": [
              "<Figure size 432x288 with 1 Axes>"
            ],
            "image/png": "[encoded data removed]"
          },
          "metadata": {
            "needs_background": "light"
          }
        }
      ]
    },
    {
      "cell_type": "markdown",
      "source": [
        "##3. replace imptation with mean"
      ],
      "metadata": {
        "id": "O1P-lOLF7i2k"
      }
    },
    {
      "cell_type": "code",
      "source": [
        "meanvalue=df['x1'].mean()\n",
        "meanvalue\n"
      ],
      "metadata": {
        "colab": {
          "base_uri": "https://localhost:8080/"
        },
        "id": "_yjZCyDS70kT",
        "outputId": "f6f7b024-b933-4a10-dcdc-5d3818589148"
      },
      "execution_count": null,
      "outputs": [
        {
          "output_type": "execute_result",
          "data": {
            "text/plain": [
              "10.738908227848102"
            ]
          },
          "metadata": {},
          "execution_count": 1142
        }
      ]
    },
    {
      "cell_type": "code",
      "source": [
        "med=med_value_list[0]"
      ],
      "metadata": {
        "id": "WZNlEDHQ70fr"
      },
      "execution_count": null,
      "outputs": []
    },
    {
      "cell_type": "code",
      "source": [
        "df.loc[df['x1']==med_value_list[0]]"
      ],
      "metadata": {
        "colab": {
          "base_uri": "https://localhost:8080/",
          "height": 332
        },
        "id": "zSPVYHFG7yIG",
        "outputId": "2c70dcea-e6a9-4ae5-97c5-64d3058eeee9"
      },
      "execution_count": null,
      "outputs": [
        {
          "output_type": "execute_result",
          "data": {
            "text/plain": [
              "       x1      x2         x3         x4      x5     x6     x7     x8      y\n",
              "30   9.42  -66.86  232.98625   3846.480   8.320   2.67   8.20  -0.93   7.35\n",
              "34   9.42 -143.41 -100.46000     15.920  -5.380  -4.09  -4.35  16.27  -9.47\n",
              "40   9.42   -2.53  232.98625   4248.430   5.970  10.83 -14.57  -5.78  28.20\n",
              "74   9.42 -118.78   37.11000   5204.180 -13.350   8.83  -1.85 -14.85  10.34\n",
              "85   9.42    4.64  -55.19000  27004.505  -1.105 -19.93  -2.69  -6.15  -3.73\n",
              "93   9.42   85.91   56.77000   1265.220  -1.340  -8.27  13.29  -7.10  11.62\n",
              "108  9.42  -64.39  232.98625  27004.505   1.830  -3.53  -8.74 -22.58  22.95\n",
              "112  9.42   15.70   77.17000   6486.690  -7.900  13.45  -7.69 -12.97  18.23\n",
              "149  9.42  158.81   19.37000   5444.960   7.720  -0.86   6.02 -18.19  10.70"
            ],
            "text/html": [
              "\n",
              "  <div id=\"df-926bb099-94af-4c3b-82b8-ed893169410e\">\n",
              "    <div class=\"colab-df-container\">\n",
              "      <div>\n",
              "<style scoped>\n",
              "    .dataframe tbody tr th:only-of-type {\n",
              "        vertical-align: middle;\n",
              "    }\n",
              "\n",
              "    .dataframe tbody tr th {\n",
              "        vertical-align: top;\n",
              "    }\n",
              "\n",
              "    .dataframe thead th {\n",
              "        text-align: right;\n",
              "    }\n",
              "</style>\n",
              "<table border=\"1\" class=\"dataframe\">\n",
              "  <thead>\n",
              "    <tr style=\"text-align: right;\">\n",
              "      <th></th>\n",
              "      <th>x1</th>\n",
              "      <th>x2</th>\n",
              "      <th>x3</th>\n",
              "      <th>x4</th>\n",
              "      <th>x5</th>\n",
              "      <th>x6</th>\n",
              "      <th>x7</th>\n",
              "      <th>x8</th>\n",
              "      <th>y</th>\n",
              "    </tr>\n",
              "  </thead>\n",
              "  <tbody>\n",
              "    <tr>\n",
              "      <th>30</th>\n",
              "      <td>9.42</td>\n",
              "      <td>-66.86</td>\n",
              "      <td>232.98625</td>\n",
              "      <td>3846.480</td>\n",
              "      <td>8.320</td>\n",
              "      <td>2.67</td>\n",
              "      <td>8.20</td>\n",
              "      <td>-0.93</td>\n",
              "      <td>7.35</td>\n",
              "    </tr>\n",
              "    <tr>\n",
              "      <th>34</th>\n",
              "      <td>9.42</td>\n",
              "      <td>-143.41</td>\n",
              "      <td>-100.46000</td>\n",
              "      <td>15.920</td>\n",
              "      <td>-5.380</td>\n",
              "      <td>-4.09</td>\n",
              "      <td>-4.35</td>\n",
              "      <td>16.27</td>\n",
              "      <td>-9.47</td>\n",
              "    </tr>\n",
              "    <tr>\n",
              "      <th>40</th>\n",
              "      <td>9.42</td>\n",
              "      <td>-2.53</td>\n",
              "      <td>232.98625</td>\n",
              "      <td>4248.430</td>\n",
              "      <td>5.970</td>\n",
              "      <td>10.83</td>\n",
              "      <td>-14.57</td>\n",
              "      <td>-5.78</td>\n",
              "      <td>28.20</td>\n",
              "    </tr>\n",
              "    <tr>\n",
              "      <th>74</th>\n",
              "      <td>9.42</td>\n",
              "      <td>-118.78</td>\n",
              "      <td>37.11000</td>\n",
              "      <td>5204.180</td>\n",
              "      <td>-13.350</td>\n",
              "      <td>8.83</td>\n",
              "      <td>-1.85</td>\n",
              "      <td>-14.85</td>\n",
              "      <td>10.34</td>\n",
              "    </tr>\n",
              "    <tr>\n",
              "      <th>85</th>\n",
              "      <td>9.42</td>\n",
              "      <td>4.64</td>\n",
              "      <td>-55.19000</td>\n",
              "      <td>27004.505</td>\n",
              "      <td>-1.105</td>\n",
              "      <td>-19.93</td>\n",
              "      <td>-2.69</td>\n",
              "      <td>-6.15</td>\n",
              "      <td>-3.73</td>\n",
              "    </tr>\n",
              "    <tr>\n",
              "      <th>93</th>\n",
              "      <td>9.42</td>\n",
              "      <td>85.91</td>\n",
              "      <td>56.77000</td>\n",
              "      <td>1265.220</td>\n",
              "      <td>-1.340</td>\n",
              "      <td>-8.27</td>\n",
              "      <td>13.29</td>\n",
              "      <td>-7.10</td>\n",
              "      <td>11.62</td>\n",
              "    </tr>\n",
              "    <tr>\n",
              "      <th>108</th>\n",
              "      <td>9.42</td>\n",
              "      <td>-64.39</td>\n",
              "      <td>232.98625</td>\n",
              "      <td>27004.505</td>\n",
              "      <td>1.830</td>\n",
              "      <td>-3.53</td>\n",
              "      <td>-8.74</td>\n",
              "      <td>-22.58</td>\n",
              "      <td>22.95</td>\n",
              "    </tr>\n",
              "    <tr>\n",
              "      <th>112</th>\n",
              "      <td>9.42</td>\n",
              "      <td>15.70</td>\n",
              "      <td>77.17000</td>\n",
              "      <td>6486.690</td>\n",
              "      <td>-7.900</td>\n",
              "      <td>13.45</td>\n",
              "      <td>-7.69</td>\n",
              "      <td>-12.97</td>\n",
              "      <td>18.23</td>\n",
              "    </tr>\n",
              "    <tr>\n",
              "      <th>149</th>\n",
              "      <td>9.42</td>\n",
              "      <td>158.81</td>\n",
              "      <td>19.37000</td>\n",
              "      <td>5444.960</td>\n",
              "      <td>7.720</td>\n",
              "      <td>-0.86</td>\n",
              "      <td>6.02</td>\n",
              "      <td>-18.19</td>\n",
              "      <td>10.70</td>\n",
              "    </tr>\n",
              "  </tbody>\n",
              "</table>\n",
              "</div>\n",
              "      <button class=\"colab-df-convert\" onclick=\"convertToInteractive('df-926bb099-94af-4c3b-82b8-ed893169410e')\"\n",
              "              title=\"Convert this dataframe to an interactive table.\"\n",
              "              style=\"display:none;\">\n",
              "        \n",
              "  <svg xmlns=\"http://www.w3.org/2000/svg\" height=\"24px\"viewBox=\"0 0 24 24\"\n",
              "       width=\"24px\">\n",
              "    <path d=\"M0 0h24v24H0V0z\" fill=\"none\"/>\n",
              "    <path d=\"M18.56 5.44l.94 2.06.94-2.06 2.06-.94-2.06-.94-.94-2.06-.94 2.06-2.06.94zm-11 1L8.5 8.5l.94-2.06 2.06-.94-2.06-.94L8.5 2.5l-.94 2.06-2.06.94zm10 10l.94 2.06.94-2.06 2.06-.94-2.06-.94-.94-2.06-.94 2.06-2.06.94z\"/><path d=\"M17.41 7.96l-1.37-1.37c-.4-.4-.92-.59-1.43-.59-.52 0-1.04.2-1.43.59L10.3 9.45l-7.72 7.72c-.78.78-.78 2.05 0 2.83L4 21.41c.39.39.9.59 1.41.59.51 0 1.02-.2 1.41-.59l7.78-7.78 2.81-2.81c.8-.78.8-2.07 0-2.86zM5.41 20L4 18.59l7.72-7.72 1.47 1.35L5.41 20z\"/>\n",
              "  </svg>\n",
              "      </button>\n",
              "      \n",
              "  <style>\n",
              "    .colab-df-container {\n",
              "      display:flex;\n",
              "      flex-wrap:wrap;\n",
              "      gap: 12px;\n",
              "    }\n",
              "\n",
              "    .colab-df-convert {\n",
              "      background-color: #E8F0FE;\n",
              "      border: none;\n",
              "      border-radius: 50%;\n",
              "      cursor: pointer;\n",
              "      display: none;\n",
              "      fill: #1967D2;\n",
              "      height: 32px;\n",
              "      padding: 0 0 0 0;\n",
              "      width: 32px;\n",
              "    }\n",
              "\n",
              "    .colab-df-convert:hover {\n",
              "      background-color: #E2EBFA;\n",
              "      box-shadow: 0px 1px 2px rgba(60, 64, 67, 0.3), 0px 1px 3px 1px rgba(60, 64, 67, 0.15);\n",
              "      fill: #174EA6;\n",
              "    }\n",
              "\n",
              "    [theme=dark] .colab-df-convert {\n",
              "      background-color: #3B4455;\n",
              "      fill: #D2E3FC;\n",
              "    }\n",
              "\n",
              "    [theme=dark] .colab-df-convert:hover {\n",
              "      background-color: #434B5C;\n",
              "      box-shadow: 0px 1px 3px 1px rgba(0, 0, 0, 0.15);\n",
              "      filter: drop-shadow(0px 1px 2px rgba(0, 0, 0, 0.3));\n",
              "      fill: #FFFFFF;\n",
              "    }\n",
              "  </style>\n",
              "\n",
              "      <script>\n",
              "        const buttonEl =\n",
              "          document.querySelector('#df-926bb099-94af-4c3b-82b8-ed893169410e button.colab-df-convert');\n",
              "        buttonEl.style.display =\n",
              "          google.colab.kernel.accessAllowed ? 'block' : 'none';\n",
              "\n",
              "        async function convertToInteractive(key) {\n",
              "          const element = document.querySelector('#df-926bb099-94af-4c3b-82b8-ed893169410e');\n",
              "          const dataTable =\n",
              "            await google.colab.kernel.invokeFunction('convertToInteractive',\n",
              "                                                     [key], {});\n",
              "          if (!dataTable) return;\n",
              "\n",
              "          const docLinkHtml = 'Like what you see? Visit the ' +\n",
              "            '<a target=\"_blank\" href=https://colab.research.google.com/notebooks/data_table.ipynb>data table notebook</a>'\n",
              "            + ' to learn more about interactive tables.';\n",
              "          element.innerHTML = '';\n",
              "          dataTable['output_type'] = 'display_data';\n",
              "          await google.colab.output.renderOutput(dataTable, element);\n",
              "          const docLink = document.createElement('div');\n",
              "          docLink.innerHTML = docLinkHtml;\n",
              "          element.appendChild(docLink);\n",
              "        }\n",
              "      </script>\n",
              "    </div>\n",
              "  </div>\n",
              "  "
            ]
          },
          "metadata": {},
          "execution_count": 1144
        }
      ]
    },
    {
      "cell_type": "code",
      "source": [],
      "metadata": {
        "id": "ly-0PUQ90QNU"
      },
      "execution_count": null,
      "outputs": []
    },
    {
      "cell_type": "code",
      "source": [
        "#df.loc[df.x1 == med_value_list[0], 'x1'] = meanvalue"
      ],
      "metadata": {
        "id": "Tf8wwTBtZKzR"
      },
      "execution_count": null,
      "outputs": []
    },
    {
      "cell_type": "code",
      "source": [
        "#df.loc[df['x1']==med_value_list[0]]"
      ],
      "metadata": {
        "id": "GBeGUqjfZQkO"
      },
      "execution_count": null,
      "outputs": []
    },
    {
      "cell_type": "code",
      "source": [
        "#df.loc[df['x1']==med_value_list[1]]"
      ],
      "metadata": {
        "id": "dnwUZr_x0D_S"
      },
      "execution_count": null,
      "outputs": []
    },
    {
      "cell_type": "code",
      "source": [
        "for j in range(8):\n",
        "  col_name = 'x'+str(j+1)\n",
        "  mean_value=df[col_name].mean()\n",
        "  #df.loc[df[col_name]==med_value_list[i]] = meanvalue\n",
        "  print(col_name,'mean value',mean_value)\n",
        "  print('fill mean ',col_name,'sucess! :',meanvalue)"
      ],
      "metadata": {
        "colab": {
          "base_uri": "https://localhost:8080/"
        },
        "id": "lNYt3C6y7lMZ",
        "outputId": "3b826f14-0e39-45e9-ca1d-8c2c483d3278"
      },
      "execution_count": null,
      "outputs": [
        {
          "output_type": "stream",
          "name": "stdout",
          "text": [
            "x1 mean value 10.738908227848102\n",
            "fill mean  x1 sucess! : 10.738908227848102\n",
            "x2 mean value 6.392935126582277\n",
            "fill mean  x2 sucess! : 10.738908227848102\n",
            "x3 mean value -1.013188291139242\n",
            "fill mean  x3 sucess! : 10.738908227848102\n",
            "x4 mean value 8218.27\n",
            "fill mean  x4 sucess! : 10.738908227848102\n",
            "x5 mean value 0.6180854430379746\n",
            "fill mean  x5 sucess! : 10.738908227848102\n",
            "x6 mean value 2.1787025316455697\n",
            "fill mean  x6 sucess! : 10.738908227848102\n",
            "x7 mean value -0.26667721518987336\n",
            "fill mean  x7 sucess! : 10.738908227848102\n",
            "x8 mean value -1.1755063291139243\n",
            "fill mean  x8 sucess! : 10.738908227848102\n"
          ]
        }
      ]
    },
    {
      "cell_type": "code",
      "source": [
        "df.plot.box()"
      ],
      "metadata": {
        "colab": {
          "base_uri": "https://localhost:8080/",
          "height": 282
        },
        "id": "KtVBiPXhoU4C",
        "outputId": "fe8ad840-df95-4b9d-ad6c-1e49ae69ceb0"
      },
      "execution_count": null,
      "outputs": [
        {
          "output_type": "execute_result",
          "data": {
            "text/plain": [
              "<matplotlib.axes._subplots.AxesSubplot at 0x7f86b35eac10>"
            ]
          },
          "metadata": {},
          "execution_count": 1149
        },
        {
          "output_type": "display_data",
          "data": {
            "text/plain": [
              "<Figure size 432x288 with 1 Axes>"
            ],
            "image/png": "[encoded data removed]"
          },
          "metadata": {
            "needs_background": "light"
          }
        }
      ]
    },
    {
      "cell_type": "markdown",
      "source": [
        "## drop outlier again"
      ],
      "metadata": {
        "id": "Cud3iEep-2zX"
      }
    },
    {
      "cell_type": "code",
      "source": [],
      "metadata": {
        "id": "t2Z5NIPi7Zej"
      },
      "execution_count": null,
      "outputs": []
    },
    {
      "cell_type": "code",
      "source": [
        "# for j in range(8):\n",
        "#   col_name = 'x'+str(j+1)\n",
        "#   df = remove_outlier(df,col_name)\n",
        "#   print('fill',col_name,'sucess!')"
      ],
      "metadata": {
        "id": "ekdb-s3a-4jf"
      },
      "execution_count": null,
      "outputs": []
    },
    {
      "cell_type": "code",
      "source": [
        "df.plot.box()"
      ],
      "metadata": {
        "colab": {
          "base_uri": "https://localhost:8080/",
          "height": 282
        },
        "id": "pNF3yaB9-61X",
        "outputId": "334e3794-7dd1-4bab-8de3-1f92fcaf2e6e"
      },
      "execution_count": null,
      "outputs": [
        {
          "output_type": "execute_result",
          "data": {
            "text/plain": [
              "<matplotlib.axes._subplots.AxesSubplot at 0x7f86ae962090>"
            ]
          },
          "metadata": {},
          "execution_count": 1151
        },
        {
          "output_type": "display_data",
          "data": {
            "text/plain": [
              "<Figure size 432x288 with 1 Axes>"
            ],
            "image/png": "[encoded data removed]"
          },
          "metadata": {
            "needs_background": "light"
          }
        }
      ]
    },
    {
      "cell_type": "code",
      "source": [
        "# print(\"ORIGINAL BELOW\")\n",
        "# df.describe()"
      ],
      "metadata": {
        "id": "YF8CWpEWpnyH"
      },
      "execution_count": null,
      "outputs": []
    },
    {
      "cell_type": "code",
      "source": [
        "# print(\"MODIFIED BELOW\")\n",
        "# df_ori.describe()"
      ],
      "metadata": {
        "id": "HYTys0z7px-X"
      },
      "execution_count": null,
      "outputs": []
    },
    {
      "cell_type": "code",
      "source": [
        "import seaborn as sns"
      ],
      "metadata": {
        "id": "31dVMnu2p0D3"
      },
      "execution_count": null,
      "outputs": []
    },
    {
      "cell_type": "code",
      "source": [
        "str_list=['x1','x2','x3','x4','x5','x6','x7','x8']"
      ],
      "metadata": {
        "id": "FxsGfkVNqCQh"
      },
      "execution_count": null,
      "outputs": []
    },
    {
      "cell_type": "code",
      "source": [
        "# sns.pairplot(df[str_list],diag_kind=\"kde\",corner=True)"
      ],
      "metadata": {
        "id": "UjC1_VatqDC_"
      },
      "execution_count": null,
      "outputs": []
    },
    {
      "cell_type": "code",
      "source": [
        "sns.heatmap(df[str_list].corr(),annot=True)"
      ],
      "metadata": {
        "colab": {
          "base_uri": "https://localhost:8080/",
          "height": 286
        },
        "id": "GetqMf6PqDMn",
        "outputId": "10b108a9-d617-411b-bd46-f030f48aa064"
      },
      "execution_count": null,
      "outputs": [
        {
          "output_type": "execute_result",
          "data": {
            "text/plain": [
              "<matplotlib.axes._subplots.AxesSubplot at 0x7f86ae81ee90>"
            ]
          },
          "metadata": {},
          "execution_count": 1157
        },
        {
          "output_type": "display_data",
          "data": {
            "text/plain": [
              "<Figure size 432x288 with 2 Axes>"
            ],
            "image/png": "[encoded data removed]"
          },
          "metadata": {
            "needs_background": "light"
          }
        }
      ]
    },
    {
      "cell_type": "code",
      "source": [
        "from sklearn.model_selection import train_test_split\n",
        "from sklearn.linear_model import LinearRegression\n",
        "from sklearn import metrics "
      ],
      "metadata": {
        "id": "IaYA050cqEnn"
      },
      "execution_count": null,
      "outputs": []
    },
    {
      "cell_type": "code",
      "source": [
        "df.info()"
      ],
      "metadata": {
        "colab": {
          "base_uri": "https://localhost:8080/"
        },
        "id": "F02nNa2pqoQP",
        "outputId": "e6a6640a-969b-4d4f-ef2c-ca7dac8c3a96"
      },
      "execution_count": null,
      "outputs": [
        {
          "output_type": "stream",
          "name": "stdout",
          "text": [
            "<class 'pandas.core.frame.DataFrame'>\n",
            "Int64Index: 158 entries, 0 to 189\n",
            "Data columns (total 9 columns):\n",
            " #   Column  Non-Null Count  Dtype  \n",
            "---  ------  --------------  -----  \n",
            " 0   x1      158 non-null    float64\n",
            " 1   x2      158 non-null    float64\n",
            " 2   x3      158 non-null    float64\n",
            " 3   x4      158 non-null    float64\n",
            " 4   x5      158 non-null    float64\n",
            " 5   x6      158 non-null    float64\n",
            " 6   x7      158 non-null    float64\n",
            " 7   x8      158 non-null    float64\n",
            " 8   y       158 non-null    float64\n",
            "dtypes: float64(9)\n",
            "memory usage: 12.3 KB\n"
          ]
        }
      ]
    },
    {
      "cell_type": "code",
      "source": [
        "df.describe()"
      ],
      "metadata": {
        "colab": {
          "base_uri": "https://localhost:8080/",
          "height": 300
        },
        "id": "mDnUxk1wqo6w",
        "outputId": "05ea5125-b717-4cd7-c37f-38efd08fda7e"
      },
      "execution_count": null,
      "outputs": [
        {
          "output_type": "execute_result",
          "data": {
            "text/plain": [
              "               x1          x2          x3            x4          x5  \\\n",
              "count  158.000000  158.000000  158.000000    158.000000  158.000000   \n",
              "mean    10.738908    6.392935   -1.013188   8218.270000    0.618085   \n",
              "std     91.622116   98.351475   96.142549   9351.519057    9.991493   \n",
              "min   -218.250000 -245.210000 -239.263750      0.480000  -22.467500   \n",
              "25%    -51.055000  -52.655000  -62.170000   1288.580000   -5.142500   \n",
              "50%      9.420000   11.270000    5.605000   4371.325000   -1.092500   \n",
              "75%     67.792500   77.492500   55.892500  11574.950000    6.407500   \n",
              "max    246.063750  272.713750  232.986250  27004.505000   23.732500   \n",
              "\n",
              "               x6          x7          x8           y  \n",
              "count  158.000000  158.000000  158.000000  158.000000  \n",
              "mean     2.178703   -0.266677   -1.175506    4.272405  \n",
              "std      9.708089    9.337375   10.860889    8.307211  \n",
              "min    -21.225000  -22.371250  -29.870000  -15.180000  \n",
              "25%     -3.487500   -5.545000   -8.135000   -1.847500  \n",
              "50%      2.210000   -0.405000   -0.495000    3.555000  \n",
              "75%      8.337500    5.672500    6.355000   10.767500  \n",
              "max     26.075000   22.498750   28.090000   28.200000  "
            ],
            "text/html": [
              "\n",
              "  <div id=\"df-88c9fd3c-9b99-44ea-8405-ccb4c31cdaca\">\n",
              "    <div class=\"colab-df-container\">\n",
              "      <div>\n",
              "<style scoped>\n",
              "    .dataframe tbody tr th:only-of-type {\n",
              "        vertical-align: middle;\n",
              "    }\n",
              "\n",
              "    .dataframe tbody tr th {\n",
              "        vertical-align: top;\n",
              "    }\n",
              "\n",
              "    .dataframe thead th {\n",
              "        text-align: right;\n",
              "    }\n",
              "</style>\n",
              "<table border=\"1\" class=\"dataframe\">\n",
              "  <thead>\n",
              "    <tr style=\"text-align: right;\">\n",
              "      <th></th>\n",
              "      <th>x1</th>\n",
              "      <th>x2</th>\n",
              "      <th>x3</th>\n",
              "      <th>x4</th>\n",
              "      <th>x5</th>\n",
              "      <th>x6</th>\n",
              "      <th>x7</th>\n",
              "      <th>x8</th>\n",
              "      <th>y</th>\n",
              "    </tr>\n",
              "  </thead>\n",
              "  <tbody>\n",
              "    <tr>\n",
              "      <th>count</th>\n",
              "      <td>158.000000</td>\n",
              "      <td>158.000000</td>\n",
              "      <td>158.000000</td>\n",
              "      <td>158.000000</td>\n",
              "      <td>158.000000</td>\n",
              "      <td>158.000000</td>\n",
              "      <td>158.000000</td>\n",
              "      <td>158.000000</td>\n",
              "      <td>158.000000</td>\n",
              "    </tr>\n",
              "    <tr>\n",
              "      <th>mean</th>\n",
              "      <td>10.738908</td>\n",
              "      <td>6.392935</td>\n",
              "      <td>-1.013188</td>\n",
              "      <td>8218.270000</td>\n",
              "      <td>0.618085</td>\n",
              "      <td>2.178703</td>\n",
              "      <td>-0.266677</td>\n",
              "      <td>-1.175506</td>\n",
              "      <td>4.272405</td>\n",
              "    </tr>\n",
              "    <tr>\n",
              "      <th>std</th>\n",
              "      <td>91.622116</td>\n",
              "      <td>98.351475</td>\n",
              "      <td>96.142549</td>\n",
              "      <td>9351.519057</td>\n",
              "      <td>9.991493</td>\n",
              "      <td>9.708089</td>\n",
              "      <td>9.337375</td>\n",
              "      <td>10.860889</td>\n",
              "      <td>8.307211</td>\n",
              "    </tr>\n",
              "    <tr>\n",
              "      <th>min</th>\n",
              "      <td>-218.250000</td>\n",
              "      <td>-245.210000</td>\n",
              "      <td>-239.263750</td>\n",
              "      <td>0.480000</td>\n",
              "      <td>-22.467500</td>\n",
              "      <td>-21.225000</td>\n",
              "      <td>-22.371250</td>\n",
              "      <td>-29.870000</td>\n",
              "      <td>-15.180000</td>\n",
              "    </tr>\n",
              "    <tr>\n",
              "      <th>25%</th>\n",
              "      <td>-51.055000</td>\n",
              "      <td>-52.655000</td>\n",
              "      <td>-62.170000</td>\n",
              "      <td>1288.580000</td>\n",
              "      <td>-5.142500</td>\n",
              "      <td>-3.487500</td>\n",
              "      <td>-5.545000</td>\n",
              "      <td>-8.135000</td>\n",
              "      <td>-1.847500</td>\n",
              "    </tr>\n",
              "    <tr>\n",
              "      <th>50%</th>\n",
              "      <td>9.420000</td>\n",
              "      <td>11.270000</td>\n",
              "      <td>5.605000</td>\n",
              "      <td>4371.325000</td>\n",
              "      <td>-1.092500</td>\n",
              "      <td>2.210000</td>\n",
              "      <td>-0.405000</td>\n",
              "      <td>-0.495000</td>\n",
              "      <td>3.555000</td>\n",
              "    </tr>\n",
              "    <tr>\n",
              "      <th>75%</th>\n",
              "      <td>67.792500</td>\n",
              "      <td>77.492500</td>\n",
              "      <td>55.892500</td>\n",
              "      <td>11574.950000</td>\n",
              "      <td>6.407500</td>\n",
              "      <td>8.337500</td>\n",
              "      <td>5.672500</td>\n",
              "      <td>6.355000</td>\n",
              "      <td>10.767500</td>\n",
              "    </tr>\n",
              "    <tr>\n",
              "      <th>max</th>\n",
              "      <td>246.063750</td>\n",
              "      <td>272.713750</td>\n",
              "      <td>232.986250</td>\n",
              "      <td>27004.505000</td>\n",
              "      <td>23.732500</td>\n",
              "      <td>26.075000</td>\n",
              "      <td>22.498750</td>\n",
              "      <td>28.090000</td>\n",
              "      <td>28.200000</td>\n",
              "    </tr>\n",
              "  </tbody>\n",
              "</table>\n",
              "</div>\n",
              "      <button class=\"colab-df-convert\" onclick=\"convertToInteractive('df-88c9fd3c-9b99-44ea-8405-ccb4c31cdaca')\"\n",
              "              title=\"Convert this dataframe to an interactive table.\"\n",
              "              style=\"display:none;\">\n",
              "        \n",
              "  <svg xmlns=\"http://www.w3.org/2000/svg\" height=\"24px\"viewBox=\"0 0 24 24\"\n",
              "       width=\"24px\">\n",
              "    <path d=\"M0 0h24v24H0V0z\" fill=\"none\"/>\n",
              "    <path d=\"M18.56 5.44l.94 2.06.94-2.06 2.06-.94-2.06-.94-.94-2.06-.94 2.06-2.06.94zm-11 1L8.5 8.5l.94-2.06 2.06-.94-2.06-.94L8.5 2.5l-.94 2.06-2.06.94zm10 10l.94 2.06.94-2.06 2.06-.94-2.06-.94-.94-2.06-.94 2.06-2.06.94z\"/><path d=\"M17.41 7.96l-1.37-1.37c-.4-.4-.92-.59-1.43-.59-.52 0-1.04.2-1.43.59L10.3 9.45l-7.72 7.72c-.78.78-.78 2.05 0 2.83L4 21.41c.39.39.9.59 1.41.59.51 0 1.02-.2 1.41-.59l7.78-7.78 2.81-2.81c.8-.78.8-2.07 0-2.86zM5.41 20L4 18.59l7.72-7.72 1.47 1.35L5.41 20z\"/>\n",
              "  </svg>\n",
              "      </button>\n",
              "      \n",
              "  <style>\n",
              "    .colab-df-container {\n",
              "      display:flex;\n",
              "      flex-wrap:wrap;\n",
              "      gap: 12px;\n",
              "    }\n",
              "\n",
              "    .colab-df-convert {\n",
              "      background-color: #E8F0FE;\n",
              "      border: none;\n",
              "      border-radius: 50%;\n",
              "      cursor: pointer;\n",
              "      display: none;\n",
              "      fill: #1967D2;\n",
              "      height: 32px;\n",
              "      padding: 0 0 0 0;\n",
              "      width: 32px;\n",
              "    }\n",
              "\n",
              "    .colab-df-convert:hover {\n",
              "      background-color: #E2EBFA;\n",
              "      box-shadow: 0px 1px 2px rgba(60, 64, 67, 0.3), 0px 1px 3px 1px rgba(60, 64, 67, 0.15);\n",
              "      fill: #174EA6;\n",
              "    }\n",
              "\n",
              "    [theme=dark] .colab-df-convert {\n",
              "      background-color: #3B4455;\n",
              "      fill: #D2E3FC;\n",
              "    }\n",
              "\n",
              "    [theme=dark] .colab-df-convert:hover {\n",
              "      background-color: #434B5C;\n",
              "      box-shadow: 0px 1px 3px 1px rgba(0, 0, 0, 0.15);\n",
              "      filter: drop-shadow(0px 1px 2px rgba(0, 0, 0, 0.3));\n",
              "      fill: #FFFFFF;\n",
              "    }\n",
              "  </style>\n",
              "\n",
              "      <script>\n",
              "        const buttonEl =\n",
              "          document.querySelector('#df-88c9fd3c-9b99-44ea-8405-ccb4c31cdaca button.colab-df-convert');\n",
              "        buttonEl.style.display =\n",
              "          google.colab.kernel.accessAllowed ? 'block' : 'none';\n",
              "\n",
              "        async function convertToInteractive(key) {\n",
              "          const element = document.querySelector('#df-88c9fd3c-9b99-44ea-8405-ccb4c31cdaca');\n",
              "          const dataTable =\n",
              "            await google.colab.kernel.invokeFunction('convertToInteractive',\n",
              "                                                     [key], {});\n",
              "          if (!dataTable) return;\n",
              "\n",
              "          const docLinkHtml = 'Like what you see? Visit the ' +\n",
              "            '<a target=\"_blank\" href=https://colab.research.google.com/notebooks/data_table.ipynb>data table notebook</a>'\n",
              "            + ' to learn more about interactive tables.';\n",
              "          element.innerHTML = '';\n",
              "          dataTable['output_type'] = 'display_data';\n",
              "          await google.colab.output.renderOutput(dataTable, element);\n",
              "          const docLink = document.createElement('div');\n",
              "          docLink.innerHTML = docLinkHtml;\n",
              "          element.appendChild(docLink);\n",
              "        }\n",
              "      </script>\n",
              "    </div>\n",
              "  </div>\n",
              "  "
            ]
          },
          "metadata": {},
          "execution_count": 1160
        }
      ]
    },
    {
      "cell_type": "code",
      "source": [
        "# sns.pairplot(df)"
      ],
      "metadata": {
        "id": "bRBtvY1yqsdI"
      },
      "execution_count": null,
      "outputs": []
    },
    {
      "cell_type": "code",
      "source": [
        "# sns.distplot(df['x4'])"
      ],
      "metadata": {
        "id": "z9ERvXj1qwes"
      },
      "execution_count": null,
      "outputs": []
    },
    {
      "cell_type": "code",
      "source": [
        "df.corr().sort_values(\"y\")[[\"y\"]]"
      ],
      "metadata": {
        "colab": {
          "base_uri": "https://localhost:8080/",
          "height": 332
        },
        "id": "urEIqu9yqxmn",
        "outputId": "40fda7e9-9d56-42fd-9ad3-efd0a90b53ff"
      },
      "execution_count": null,
      "outputs": [
        {
          "output_type": "execute_result",
          "data": {
            "text/plain": [
              "           y\n",
              "x8 -0.429537\n",
              "x7 -0.081937\n",
              "x5 -0.061746\n",
              "x4 -0.060775\n",
              "x2 -0.053752\n",
              "x1 -0.000955\n",
              "x6  0.111768\n",
              "x3  0.536841\n",
              "y   1.000000"
            ],
            "text/html": [
              "\n",
              "  <div id=\"df-bad9d464-fbc6-4c9d-9ad9-38e3a9df8270\">\n",
              "    <div class=\"colab-df-container\">\n",
              "      <div>\n",
              "<style scoped>\n",
              "    .dataframe tbody tr th:only-of-type {\n",
              "        vertical-align: middle;\n",
              "    }\n",
              "\n",
              "    .dataframe tbody tr th {\n",
              "        vertical-align: top;\n",
              "    }\n",
              "\n",
              "    .dataframe thead th {\n",
              "        text-align: right;\n",
              "    }\n",
              "</style>\n",
              "<table border=\"1\" class=\"dataframe\">\n",
              "  <thead>\n",
              "    <tr style=\"text-align: right;\">\n",
              "      <th></th>\n",
              "      <th>y</th>\n",
              "    </tr>\n",
              "  </thead>\n",
              "  <tbody>\n",
              "    <tr>\n",
              "      <th>x8</th>\n",
              "      <td>-0.429537</td>\n",
              "    </tr>\n",
              "    <tr>\n",
              "      <th>x7</th>\n",
              "      <td>-0.081937</td>\n",
              "    </tr>\n",
              "    <tr>\n",
              "      <th>x5</th>\n",
              "      <td>-0.061746</td>\n",
              "    </tr>\n",
              "    <tr>\n",
              "      <th>x4</th>\n",
              "      <td>-0.060775</td>\n",
              "    </tr>\n",
              "    <tr>\n",
              "      <th>x2</th>\n",
              "      <td>-0.053752</td>\n",
              "    </tr>\n",
              "    <tr>\n",
              "      <th>x1</th>\n",
              "      <td>-0.000955</td>\n",
              "    </tr>\n",
              "    <tr>\n",
              "      <th>x6</th>\n",
              "      <td>0.111768</td>\n",
              "    </tr>\n",
              "    <tr>\n",
              "      <th>x3</th>\n",
              "      <td>0.536841</td>\n",
              "    </tr>\n",
              "    <tr>\n",
              "      <th>y</th>\n",
              "      <td>1.000000</td>\n",
              "    </tr>\n",
              "  </tbody>\n",
              "</table>\n",
              "</div>\n",
              "      <button class=\"colab-df-convert\" onclick=\"convertToInteractive('df-bad9d464-fbc6-4c9d-9ad9-38e3a9df8270')\"\n",
              "              title=\"Convert this dataframe to an interactive table.\"\n",
              "              style=\"display:none;\">\n",
              "        \n",
              "  <svg xmlns=\"http://www.w3.org/2000/svg\" height=\"24px\"viewBox=\"0 0 24 24\"\n",
              "       width=\"24px\">\n",
              "    <path d=\"M0 0h24v24H0V0z\" fill=\"none\"/>\n",
              "    <path d=\"M18.56 5.44l.94 2.06.94-2.06 2.06-.94-2.06-.94-.94-2.06-.94 2.06-2.06.94zm-11 1L8.5 8.5l.94-2.06 2.06-.94-2.06-.94L8.5 2.5l-.94 2.06-2.06.94zm10 10l.94 2.06.94-2.06 2.06-.94-2.06-.94-.94-2.06-.94 2.06-2.06.94z\"/><path d=\"M17.41 7.96l-1.37-1.37c-.4-.4-.92-.59-1.43-.59-.52 0-1.04.2-1.43.59L10.3 9.45l-7.72 7.72c-.78.78-.78 2.05 0 2.83L4 21.41c.39.39.9.59 1.41.59.51 0 1.02-.2 1.41-.59l7.78-7.78 2.81-2.81c.8-.78.8-2.07 0-2.86zM5.41 20L4 18.59l7.72-7.72 1.47 1.35L5.41 20z\"/>\n",
              "  </svg>\n",
              "      </button>\n",
              "      \n",
              "  <style>\n",
              "    .colab-df-container {\n",
              "      display:flex;\n",
              "      flex-wrap:wrap;\n",
              "      gap: 12px;\n",
              "    }\n",
              "\n",
              "    .colab-df-convert {\n",
              "      background-color: #E8F0FE;\n",
              "      border: none;\n",
              "      border-radius: 50%;\n",
              "      cursor: pointer;\n",
              "      display: none;\n",
              "      fill: #1967D2;\n",
              "      height: 32px;\n",
              "      padding: 0 0 0 0;\n",
              "      width: 32px;\n",
              "    }\n",
              "\n",
              "    .colab-df-convert:hover {\n",
              "      background-color: #E2EBFA;\n",
              "      box-shadow: 0px 1px 2px rgba(60, 64, 67, 0.3), 0px 1px 3px 1px rgba(60, 64, 67, 0.15);\n",
              "      fill: #174EA6;\n",
              "    }\n",
              "\n",
              "    [theme=dark] .colab-df-convert {\n",
              "      background-color: #3B4455;\n",
              "      fill: #D2E3FC;\n",
              "    }\n",
              "\n",
              "    [theme=dark] .colab-df-convert:hover {\n",
              "      background-color: #434B5C;\n",
              "      box-shadow: 0px 1px 3px 1px rgba(0, 0, 0, 0.15);\n",
              "      filter: drop-shadow(0px 1px 2px rgba(0, 0, 0, 0.3));\n",
              "      fill: #FFFFFF;\n",
              "    }\n",
              "  </style>\n",
              "\n",
              "      <script>\n",
              "        const buttonEl =\n",
              "          document.querySelector('#df-bad9d464-fbc6-4c9d-9ad9-38e3a9df8270 button.colab-df-convert');\n",
              "        buttonEl.style.display =\n",
              "          google.colab.kernel.accessAllowed ? 'block' : 'none';\n",
              "\n",
              "        async function convertToInteractive(key) {\n",
              "          const element = document.querySelector('#df-bad9d464-fbc6-4c9d-9ad9-38e3a9df8270');\n",
              "          const dataTable =\n",
              "            await google.colab.kernel.invokeFunction('convertToInteractive',\n",
              "                                                     [key], {});\n",
              "          if (!dataTable) return;\n",
              "\n",
              "          const docLinkHtml = 'Like what you see? Visit the ' +\n",
              "            '<a target=\"_blank\" href=https://colab.research.google.com/notebooks/data_table.ipynb>data table notebook</a>'\n",
              "            + ' to learn more about interactive tables.';\n",
              "          element.innerHTML = '';\n",
              "          dataTable['output_type'] = 'display_data';\n",
              "          await google.colab.output.renderOutput(dataTable, element);\n",
              "          const docLink = document.createElement('div');\n",
              "          docLink.innerHTML = docLinkHtml;\n",
              "          element.appendChild(docLink);\n",
              "        }\n",
              "      </script>\n",
              "    </div>\n",
              "  </div>\n",
              "  "
            ]
          },
          "metadata": {},
          "execution_count": 1163
        }
      ]
    },
    {
      "cell_type": "code",
      "source": [
        "sns.pairplot(df, x_vars=[\"x3\",\"x8\"], y_vars=[\"y\"])"
      ],
      "metadata": {
        "colab": {
          "base_uri": "https://localhost:8080/",
          "height": 214
        },
        "id": "VWX2AWZNqzaA",
        "outputId": "5fe64606-fc9e-442a-e04d-a9393f455306"
      },
      "execution_count": null,
      "outputs": [
        {
          "output_type": "execute_result",
          "data": {
            "text/plain": [
              "<seaborn.axisgrid.PairGrid at 0x7f86ae80ecd0>"
            ]
          },
          "metadata": {},
          "execution_count": 1164
        },
        {
          "output_type": "display_data",
          "data": {
            "text/plain": [
              "<Figure size 360x180 with 2 Axes>"
            ],
            "image/png": "[encoded data removed]"
          },
          "metadata": {
            "needs_background": "light"
          }
        }
      ]
    },
    {
      "cell_type": "code",
      "source": [
        "# df.plot.scatter(x='x3',y='y')"
      ],
      "metadata": {
        "id": "Ih70ilmcN_4A"
      },
      "execution_count": null,
      "outputs": []
    },
    {
      "cell_type": "code",
      "source": [
        "# df.plot.scatter(x='x8',y='y')"
      ],
      "metadata": {
        "id": "_J5jqXm5P6TQ"
      },
      "execution_count": null,
      "outputs": []
    },
    {
      "cell_type": "code",
      "source": [
        "# sns.pairplot(df, x_vars=[\"x3\",\"x8\"], y_vars=[\"y\"])"
      ],
      "metadata": {
        "id": "LJyuENgAOJMP"
      },
      "execution_count": null,
      "outputs": []
    },
    {
      "cell_type": "code",
      "source": [
        "A_test = df_test[['x3','x8']]\n",
        "x=df[['x3','x8']]\n",
        "y=df['y']"
      ],
      "metadata": {
        "id": "zJnzrFE4q1GP"
      },
      "execution_count": null,
      "outputs": []
    },
    {
      "cell_type": "code",
      "source": [
        "x"
      ],
      "metadata": {
        "colab": {
          "base_uri": "https://localhost:8080/",
          "height": 424
        },
        "id": "8eeYLghRrpZX",
        "outputId": "9b786f4e-3b7c-4da5-db29-6610c1472517"
      },
      "execution_count": null,
      "outputs": [
        {
          "output_type": "execute_result",
          "data": {
            "text/plain": [
              "         x3     x8\n",
              "0    -60.46 -17.13\n",
              "1     23.30  -7.70\n",
              "2    -75.27   8.65\n",
              "4     -2.89   4.69\n",
              "5     58.33 -13.11\n",
              "..      ...    ...\n",
              "185  -44.41 -11.73\n",
              "186   53.26  -0.42\n",
              "187  -20.96   3.23\n",
              "188 -118.74 -10.44\n",
              "189   -9.53  -1.31\n",
              "\n",
              "[158 rows x 2 columns]"
            ],
            "text/html": [
              "\n",
              "  <div id=\"df-0ed33c28-cc5b-4786-b43a-efac2d074b1a\">\n",
              "    <div class=\"colab-df-container\">\n",
              "      <div>\n",
              "<style scoped>\n",
              "    .dataframe tbody tr th:only-of-type {\n",
              "        vertical-align: middle;\n",
              "    }\n",
              "\n",
              "    .dataframe tbody tr th {\n",
              "        vertical-align: top;\n",
              "    }\n",
              "\n",
              "    .dataframe thead th {\n",
              "        text-align: right;\n",
              "    }\n",
              "</style>\n",
              "<table border=\"1\" class=\"dataframe\">\n",
              "  <thead>\n",
              "    <tr style=\"text-align: right;\">\n",
              "      <th></th>\n",
              "      <th>x3</th>\n",
              "      <th>x8</th>\n",
              "    </tr>\n",
              "  </thead>\n",
              "  <tbody>\n",
              "    <tr>\n",
              "      <th>0</th>\n",
              "      <td>-60.46</td>\n",
              "      <td>-17.13</td>\n",
              "    </tr>\n",
              "    <tr>\n",
              "      <th>1</th>\n",
              "      <td>23.30</td>\n",
              "      <td>-7.70</td>\n",
              "    </tr>\n",
              "    <tr>\n",
              "      <th>2</th>\n",
              "      <td>-75.27</td>\n",
              "      <td>8.65</td>\n",
              "    </tr>\n",
              "    <tr>\n",
              "      <th>4</th>\n",
              "      <td>-2.89</td>\n",
              "      <td>4.69</td>\n",
              "    </tr>\n",
              "    <tr>\n",
              "      <th>5</th>\n",
              "      <td>58.33</td>\n",
              "      <td>-13.11</td>\n",
              "    </tr>\n",
              "    <tr>\n",
              "      <th>...</th>\n",
              "      <td>...</td>\n",
              "      <td>...</td>\n",
              "    </tr>\n",
              "    <tr>\n",
              "      <th>185</th>\n",
              "      <td>-44.41</td>\n",
              "      <td>-11.73</td>\n",
              "    </tr>\n",
              "    <tr>\n",
              "      <th>186</th>\n",
              "      <td>53.26</td>\n",
              "      <td>-0.42</td>\n",
              "    </tr>\n",
              "    <tr>\n",
              "      <th>187</th>\n",
              "      <td>-20.96</td>\n",
              "      <td>3.23</td>\n",
              "    </tr>\n",
              "    <tr>\n",
              "      <th>188</th>\n",
              "      <td>-118.74</td>\n",
              "      <td>-10.44</td>\n",
              "    </tr>\n",
              "    <tr>\n",
              "      <th>189</th>\n",
              "      <td>-9.53</td>\n",
              "      <td>-1.31</td>\n",
              "    </tr>\n",
              "  </tbody>\n",
              "</table>\n",
              "<p>158 rows × 2 columns</p>\n",
              "</div>\n",
              "      <button class=\"colab-df-convert\" onclick=\"convertToInteractive('df-0ed33c28-cc5b-4786-b43a-efac2d074b1a')\"\n",
              "              title=\"Convert this dataframe to an interactive table.\"\n",
              "              style=\"display:none;\">\n",
              "        \n",
              "  <svg xmlns=\"http://www.w3.org/2000/svg\" height=\"24px\"viewBox=\"0 0 24 24\"\n",
              "       width=\"24px\">\n",
              "    <path d=\"M0 0h24v24H0V0z\" fill=\"none\"/>\n",
              "    <path d=\"M18.56 5.44l.94 2.06.94-2.06 2.06-.94-2.06-.94-.94-2.06-.94 2.06-2.06.94zm-11 1L8.5 8.5l.94-2.06 2.06-.94-2.06-.94L8.5 2.5l-.94 2.06-2.06.94zm10 10l.94 2.06.94-2.06 2.06-.94-2.06-.94-.94-2.06-.94 2.06-2.06.94z\"/><path d=\"M17.41 7.96l-1.37-1.37c-.4-.4-.92-.59-1.43-.59-.52 0-1.04.2-1.43.59L10.3 9.45l-7.72 7.72c-.78.78-.78 2.05 0 2.83L4 21.41c.39.39.9.59 1.41.59.51 0 1.02-.2 1.41-.59l7.78-7.78 2.81-2.81c.8-.78.8-2.07 0-2.86zM5.41 20L4 18.59l7.72-7.72 1.47 1.35L5.41 20z\"/>\n",
              "  </svg>\n",
              "      </button>\n",
              "      \n",
              "  <style>\n",
              "    .colab-df-container {\n",
              "      display:flex;\n",
              "      flex-wrap:wrap;\n",
              "      gap: 12px;\n",
              "    }\n",
              "\n",
              "    .colab-df-convert {\n",
              "      background-color: #E8F0FE;\n",
              "      border: none;\n",
              "      border-radius: 50%;\n",
              "      cursor: pointer;\n",
              "      display: none;\n",
              "      fill: #1967D2;\n",
              "      height: 32px;\n",
              "      padding: 0 0 0 0;\n",
              "      width: 32px;\n",
              "    }\n",
              "\n",
              "    .colab-df-convert:hover {\n",
              "      background-color: #E2EBFA;\n",
              "      box-shadow: 0px 1px 2px rgba(60, 64, 67, 0.3), 0px 1px 3px 1px rgba(60, 64, 67, 0.15);\n",
              "      fill: #174EA6;\n",
              "    }\n",
              "\n",
              "    [theme=dark] .colab-df-convert {\n",
              "      background-color: #3B4455;\n",
              "      fill: #D2E3FC;\n",
              "    }\n",
              "\n",
              "    [theme=dark] .colab-df-convert:hover {\n",
              "      background-color: #434B5C;\n",
              "      box-shadow: 0px 1px 3px 1px rgba(0, 0, 0, 0.15);\n",
              "      filter: drop-shadow(0px 1px 2px rgba(0, 0, 0, 0.3));\n",
              "      fill: #FFFFFF;\n",
              "    }\n",
              "  </style>\n",
              "\n",
              "      <script>\n",
              "        const buttonEl =\n",
              "          document.querySelector('#df-0ed33c28-cc5b-4786-b43a-efac2d074b1a button.colab-df-convert');\n",
              "        buttonEl.style.display =\n",
              "          google.colab.kernel.accessAllowed ? 'block' : 'none';\n",
              "\n",
              "        async function convertToInteractive(key) {\n",
              "          const element = document.querySelector('#df-0ed33c28-cc5b-4786-b43a-efac2d074b1a');\n",
              "          const dataTable =\n",
              "            await google.colab.kernel.invokeFunction('convertToInteractive',\n",
              "                                                     [key], {});\n",
              "          if (!dataTable) return;\n",
              "\n",
              "          const docLinkHtml = 'Like what you see? Visit the ' +\n",
              "            '<a target=\"_blank\" href=https://colab.research.google.com/notebooks/data_table.ipynb>data table notebook</a>'\n",
              "            + ' to learn more about interactive tables.';\n",
              "          element.innerHTML = '';\n",
              "          dataTable['output_type'] = 'display_data';\n",
              "          await google.colab.output.renderOutput(dataTable, element);\n",
              "          const docLink = document.createElement('div');\n",
              "          docLink.innerHTML = docLinkHtml;\n",
              "          element.appendChild(docLink);\n",
              "        }\n",
              "      </script>\n",
              "    </div>\n",
              "  </div>\n",
              "  "
            ]
          },
          "metadata": {},
          "execution_count": 1169
        }
      ]
    },
    {
      "cell_type": "code",
      "source": [
        "y"
      ],
      "metadata": {
        "colab": {
          "base_uri": "https://localhost:8080/"
        },
        "id": "FauER7z1rpqg",
        "outputId": "822bc36b-cd39-4338-de9a-7d94e107b426"
      },
      "execution_count": null,
      "outputs": [
        {
          "output_type": "execute_result",
          "data": {
            "text/plain": [
              "0       7.44\n",
              "1       7.31\n",
              "2      -5.77\n",
              "4       4.31\n",
              "5      16.03\n",
              "       ...  \n",
              "185    11.78\n",
              "186     3.79\n",
              "187    -3.17\n",
              "188     0.97\n",
              "189     1.44\n",
              "Name: y, Length: 158, dtype: float64"
            ]
          },
          "metadata": {},
          "execution_count": 1170
        }
      ]
    },
    {
      "cell_type": "code",
      "source": [
        "A_test"
      ],
      "metadata": {
        "colab": {
          "base_uri": "https://localhost:8080/",
          "height": 363
        },
        "id": "brlLF5UJVjYT",
        "outputId": "a5b2baf1-a99f-43c7-ce1b-fbd5fa4946be"
      },
      "execution_count": null,
      "outputs": [
        {
          "output_type": "execute_result",
          "data": {
            "text/plain": [
              "       x3     x8\n",
              "0 -105.75  -7.43\n",
              "1   91.05  10.59\n",
              "2  -82.59  -4.73\n",
              "3  -16.47   7.48\n",
              "4   51.85  -0.78\n",
              "5 -182.85  -8.59\n",
              "6   97.28  -8.06\n",
              "7 -220.91   9.71\n",
              "8  -16.47  -0.83\n",
              "9   69.88  -0.83"
            ],
            "text/html": [
              "\n",
              "  <div id=\"df-83d576cb-d6c4-4d0d-aba1-382a69da7ec5\">\n",
              "    <div class=\"colab-df-container\">\n",
              "      <div>\n",
              "<style scoped>\n",
              "    .dataframe tbody tr th:only-of-type {\n",
              "        vertical-align: middle;\n",
              "    }\n",
              "\n",
              "    .dataframe tbody tr th {\n",
              "        vertical-align: top;\n",
              "    }\n",
              "\n",
              "    .dataframe thead th {\n",
              "        text-align: right;\n",
              "    }\n",
              "</style>\n",
              "<table border=\"1\" class=\"dataframe\">\n",
              "  <thead>\n",
              "    <tr style=\"text-align: right;\">\n",
              "      <th></th>\n",
              "      <th>x3</th>\n",
              "      <th>x8</th>\n",
              "    </tr>\n",
              "  </thead>\n",
              "  <tbody>\n",
              "    <tr>\n",
              "      <th>0</th>\n",
              "      <td>-105.75</td>\n",
              "      <td>-7.43</td>\n",
              "    </tr>\n",
              "    <tr>\n",
              "      <th>1</th>\n",
              "      <td>91.05</td>\n",
              "      <td>10.59</td>\n",
              "    </tr>\n",
              "    <tr>\n",
              "      <th>2</th>\n",
              "      <td>-82.59</td>\n",
              "      <td>-4.73</td>\n",
              "    </tr>\n",
              "    <tr>\n",
              "      <th>3</th>\n",
              "      <td>-16.47</td>\n",
              "      <td>7.48</td>\n",
              "    </tr>\n",
              "    <tr>\n",
              "      <th>4</th>\n",
              "      <td>51.85</td>\n",
              "      <td>-0.78</td>\n",
              "    </tr>\n",
              "    <tr>\n",
              "      <th>5</th>\n",
              "      <td>-182.85</td>\n",
              "      <td>-8.59</td>\n",
              "    </tr>\n",
              "    <tr>\n",
              "      <th>6</th>\n",
              "      <td>97.28</td>\n",
              "      <td>-8.06</td>\n",
              "    </tr>\n",
              "    <tr>\n",
              "      <th>7</th>\n",
              "      <td>-220.91</td>\n",
              "      <td>9.71</td>\n",
              "    </tr>\n",
              "    <tr>\n",
              "      <th>8</th>\n",
              "      <td>-16.47</td>\n",
              "      <td>-0.83</td>\n",
              "    </tr>\n",
              "    <tr>\n",
              "      <th>9</th>\n",
              "      <td>69.88</td>\n",
              "      <td>-0.83</td>\n",
              "    </tr>\n",
              "  </tbody>\n",
              "</table>\n",
              "</div>\n",
              "      <button class=\"colab-df-convert\" onclick=\"convertToInteractive('df-83d576cb-d6c4-4d0d-aba1-382a69da7ec5')\"\n",
              "              title=\"Convert this dataframe to an interactive table.\"\n",
              "              style=\"display:none;\">\n",
              "        \n",
              "  <svg xmlns=\"http://www.w3.org/2000/svg\" height=\"24px\"viewBox=\"0 0 24 24\"\n",
              "       width=\"24px\">\n",
              "    <path d=\"M0 0h24v24H0V0z\" fill=\"none\"/>\n",
              "    <path d=\"M18.56 5.44l.94 2.06.94-2.06 2.06-.94-2.06-.94-.94-2.06-.94 2.06-2.06.94zm-11 1L8.5 8.5l.94-2.06 2.06-.94-2.06-.94L8.5 2.5l-.94 2.06-2.06.94zm10 10l.94 2.06.94-2.06 2.06-.94-2.06-.94-.94-2.06-.94 2.06-2.06.94z\"/><path d=\"M17.41 7.96l-1.37-1.37c-.4-.4-.92-.59-1.43-.59-.52 0-1.04.2-1.43.59L10.3 9.45l-7.72 7.72c-.78.78-.78 2.05 0 2.83L4 21.41c.39.39.9.59 1.41.59.51 0 1.02-.2 1.41-.59l7.78-7.78 2.81-2.81c.8-.78.8-2.07 0-2.86zM5.41 20L4 18.59l7.72-7.72 1.47 1.35L5.41 20z\"/>\n",
              "  </svg>\n",
              "      </button>\n",
              "      \n",
              "  <style>\n",
              "    .colab-df-container {\n",
              "      display:flex;\n",
              "      flex-wrap:wrap;\n",
              "      gap: 12px;\n",
              "    }\n",
              "\n",
              "    .colab-df-convert {\n",
              "      background-color: #E8F0FE;\n",
              "      border: none;\n",
              "      border-radius: 50%;\n",
              "      cursor: pointer;\n",
              "      display: none;\n",
              "      fill: #1967D2;\n",
              "      height: 32px;\n",
              "      padding: 0 0 0 0;\n",
              "      width: 32px;\n",
              "    }\n",
              "\n",
              "    .colab-df-convert:hover {\n",
              "      background-color: #E2EBFA;\n",
              "      box-shadow: 0px 1px 2px rgba(60, 64, 67, 0.3), 0px 1px 3px 1px rgba(60, 64, 67, 0.15);\n",
              "      fill: #174EA6;\n",
              "    }\n",
              "\n",
              "    [theme=dark] .colab-df-convert {\n",
              "      background-color: #3B4455;\n",
              "      fill: #D2E3FC;\n",
              "    }\n",
              "\n",
              "    [theme=dark] .colab-df-convert:hover {\n",
              "      background-color: #434B5C;\n",
              "      box-shadow: 0px 1px 3px 1px rgba(0, 0, 0, 0.15);\n",
              "      filter: drop-shadow(0px 1px 2px rgba(0, 0, 0, 0.3));\n",
              "      fill: #FFFFFF;\n",
              "    }\n",
              "  </style>\n",
              "\n",
              "      <script>\n",
              "        const buttonEl =\n",
              "          document.querySelector('#df-83d576cb-d6c4-4d0d-aba1-382a69da7ec5 button.colab-df-convert');\n",
              "        buttonEl.style.display =\n",
              "          google.colab.kernel.accessAllowed ? 'block' : 'none';\n",
              "\n",
              "        async function convertToInteractive(key) {\n",
              "          const element = document.querySelector('#df-83d576cb-d6c4-4d0d-aba1-382a69da7ec5');\n",
              "          const dataTable =\n",
              "            await google.colab.kernel.invokeFunction('convertToInteractive',\n",
              "                                                     [key], {});\n",
              "          if (!dataTable) return;\n",
              "\n",
              "          const docLinkHtml = 'Like what you see? Visit the ' +\n",
              "            '<a target=\"_blank\" href=https://colab.research.google.com/notebooks/data_table.ipynb>data table notebook</a>'\n",
              "            + ' to learn more about interactive tables.';\n",
              "          element.innerHTML = '';\n",
              "          dataTable['output_type'] = 'display_data';\n",
              "          await google.colab.output.renderOutput(dataTable, element);\n",
              "          const docLink = document.createElement('div');\n",
              "          docLink.innerHTML = docLinkHtml;\n",
              "          element.appendChild(docLink);\n",
              "        }\n",
              "      </script>\n",
              "    </div>\n",
              "  </div>\n",
              "  "
            ]
          },
          "metadata": {},
          "execution_count": 1171
        }
      ]
    },
    {
      "cell_type": "markdown",
      "source": [
        "#Normalized"
      ],
      "metadata": {
        "id": "sFH4TFeNrstK"
      }
    },
    {
      "cell_type": "code",
      "source": [
        "from sklearn import neighbors, datasets, preprocessing\n",
        "from sklearn.model_selection import train_test_split\n",
        "from sklearn.metrics import accuracy_score"
      ],
      "metadata": {
        "id": "8y1aTz7yyrXo"
      },
      "execution_count": null,
      "outputs": []
    },
    {
      "cell_type": "code",
      "source": [
        "X_train,X_test,y_train,y_test = train_test_split(x,y,test_size=0.4,random_state=101)"
      ],
      "metadata": {
        "id": "Jv00SP3IysLg"
      },
      "execution_count": null,
      "outputs": []
    },
    {
      "cell_type": "code",
      "source": [
        "# scaler=preprocessing.StandardScaler().fit(X_train)"
      ],
      "metadata": {
        "id": "ffNCG8XSytEP"
      },
      "execution_count": null,
      "outputs": []
    },
    {
      "cell_type": "code",
      "source": [
        "# X_train = scaler.transform(X_train)"
      ],
      "metadata": {
        "id": "KqtV-THCytsf"
      },
      "execution_count": null,
      "outputs": []
    },
    {
      "cell_type": "code",
      "source": [
        "# X_test = scaler.transform(X_test)"
      ],
      "metadata": {
        "id": "UihBzc6tyuXY"
      },
      "execution_count": null,
      "outputs": []
    },
    {
      "cell_type": "markdown",
      "source": [
        "#Regression apply"
      ],
      "metadata": {
        "id": "7PoGnvjFruog"
      }
    },
    {
      "cell_type": "code",
      "source": [
        "X_train"
      ],
      "metadata": {
        "colab": {
          "base_uri": "https://localhost:8080/",
          "height": 424
        },
        "id": "QER-golprxSw",
        "outputId": "e81b347d-939c-4631-9ffe-70eb76a0eb5e"
      },
      "execution_count": null,
      "outputs": [
        {
          "output_type": "execute_result",
          "data": {
            "text/plain": [
              "         x3     x8\n",
              "134   94.65   1.49\n",
              "29    35.96   0.30\n",
              "7   -104.81 -29.87\n",
              "63    16.75  -4.14\n",
              "111  -14.18 -23.23\n",
              "..      ...    ...\n",
              "78   -36.58   1.45\n",
              "86    90.39  -9.59\n",
              "99    41.82  -2.00\n",
              "13    12.79   4.25\n",
              "118  -17.33   1.09\n",
              "\n",
              "[94 rows x 2 columns]"
            ],
            "text/html": [
              "\n",
              "  <div id=\"df-77af125f-3b0e-4c14-94a4-bb9e0d0f3019\">\n",
              "    <div class=\"colab-df-container\">\n",
              "      <div>\n",
              "<style scoped>\n",
              "    .dataframe tbody tr th:only-of-type {\n",
              "        vertical-align: middle;\n",
              "    }\n",
              "\n",
              "    .dataframe tbody tr th {\n",
              "        vertical-align: top;\n",
              "    }\n",
              "\n",
              "    .dataframe thead th {\n",
              "        text-align: right;\n",
              "    }\n",
              "</style>\n",
              "<table border=\"1\" class=\"dataframe\">\n",
              "  <thead>\n",
              "    <tr style=\"text-align: right;\">\n",
              "      <th></th>\n",
              "      <th>x3</th>\n",
              "      <th>x8</th>\n",
              "    </tr>\n",
              "  </thead>\n",
              "  <tbody>\n",
              "    <tr>\n",
              "      <th>134</th>\n",
              "      <td>94.65</td>\n",
              "      <td>1.49</td>\n",
              "    </tr>\n",
              "    <tr>\n",
              "      <th>29</th>\n",
              "      <td>35.96</td>\n",
              "      <td>0.30</td>\n",
              "    </tr>\n",
              "    <tr>\n",
              "      <th>7</th>\n",
              "      <td>-104.81</td>\n",
              "      <td>-29.87</td>\n",
              "    </tr>\n",
              "    <tr>\n",
              "      <th>63</th>\n",
              "      <td>16.75</td>\n",
              "      <td>-4.14</td>\n",
              "    </tr>\n",
              "    <tr>\n",
              "      <th>111</th>\n",
              "      <td>-14.18</td>\n",
              "      <td>-23.23</td>\n",
              "    </tr>\n",
              "    <tr>\n",
              "      <th>...</th>\n",
              "      <td>...</td>\n",
              "      <td>...</td>\n",
              "    </tr>\n",
              "    <tr>\n",
              "      <th>78</th>\n",
              "      <td>-36.58</td>\n",
              "      <td>1.45</td>\n",
              "    </tr>\n",
              "    <tr>\n",
              "      <th>86</th>\n",
              "      <td>90.39</td>\n",
              "      <td>-9.59</td>\n",
              "    </tr>\n",
              "    <tr>\n",
              "      <th>99</th>\n",
              "      <td>41.82</td>\n",
              "      <td>-2.00</td>\n",
              "    </tr>\n",
              "    <tr>\n",
              "      <th>13</th>\n",
              "      <td>12.79</td>\n",
              "      <td>4.25</td>\n",
              "    </tr>\n",
              "    <tr>\n",
              "      <th>118</th>\n",
              "      <td>-17.33</td>\n",
              "      <td>1.09</td>\n",
              "    </tr>\n",
              "  </tbody>\n",
              "</table>\n",
              "<p>94 rows × 2 columns</p>\n",
              "</div>\n",
              "      <button class=\"colab-df-convert\" onclick=\"convertToInteractive('df-77af125f-3b0e-4c14-94a4-bb9e0d0f3019')\"\n",
              "              title=\"Convert this dataframe to an interactive table.\"\n",
              "              style=\"display:none;\">\n",
              "        \n",
              "  <svg xmlns=\"http://www.w3.org/2000/svg\" height=\"24px\"viewBox=\"0 0 24 24\"\n",
              "       width=\"24px\">\n",
              "    <path d=\"M0 0h24v24H0V0z\" fill=\"none\"/>\n",
              "    <path d=\"M18.56 5.44l.94 2.06.94-2.06 2.06-.94-2.06-.94-.94-2.06-.94 2.06-2.06.94zm-11 1L8.5 8.5l.94-2.06 2.06-.94-2.06-.94L8.5 2.5l-.94 2.06-2.06.94zm10 10l.94 2.06.94-2.06 2.06-.94-2.06-.94-.94-2.06-.94 2.06-2.06.94z\"/><path d=\"M17.41 7.96l-1.37-1.37c-.4-.4-.92-.59-1.43-.59-.52 0-1.04.2-1.43.59L10.3 9.45l-7.72 7.72c-.78.78-.78 2.05 0 2.83L4 21.41c.39.39.9.59 1.41.59.51 0 1.02-.2 1.41-.59l7.78-7.78 2.81-2.81c.8-.78.8-2.07 0-2.86zM5.41 20L4 18.59l7.72-7.72 1.47 1.35L5.41 20z\"/>\n",
              "  </svg>\n",
              "      </button>\n",
              "      \n",
              "  <style>\n",
              "    .colab-df-container {\n",
              "      display:flex;\n",
              "      flex-wrap:wrap;\n",
              "      gap: 12px;\n",
              "    }\n",
              "\n",
              "    .colab-df-convert {\n",
              "      background-color: #E8F0FE;\n",
              "      border: none;\n",
              "      border-radius: 50%;\n",
              "      cursor: pointer;\n",
              "      display: none;\n",
              "      fill: #1967D2;\n",
              "      height: 32px;\n",
              "      padding: 0 0 0 0;\n",
              "      width: 32px;\n",
              "    }\n",
              "\n",
              "    .colab-df-convert:hover {\n",
              "      background-color: #E2EBFA;\n",
              "      box-shadow: 0px 1px 2px rgba(60, 64, 67, 0.3), 0px 1px 3px 1px rgba(60, 64, 67, 0.15);\n",
              "      fill: #174EA6;\n",
              "    }\n",
              "\n",
              "    [theme=dark] .colab-df-convert {\n",
              "      background-color: #3B4455;\n",
              "      fill: #D2E3FC;\n",
              "    }\n",
              "\n",
              "    [theme=dark] .colab-df-convert:hover {\n",
              "      background-color: #434B5C;\n",
              "      box-shadow: 0px 1px 3px 1px rgba(0, 0, 0, 0.15);\n",
              "      filter: drop-shadow(0px 1px 2px rgba(0, 0, 0, 0.3));\n",
              "      fill: #FFFFFF;\n",
              "    }\n",
              "  </style>\n",
              "\n",
              "      <script>\n",
              "        const buttonEl =\n",
              "          document.querySelector('#df-77af125f-3b0e-4c14-94a4-bb9e0d0f3019 button.colab-df-convert');\n",
              "        buttonEl.style.display =\n",
              "          google.colab.kernel.accessAllowed ? 'block' : 'none';\n",
              "\n",
              "        async function convertToInteractive(key) {\n",
              "          const element = document.querySelector('#df-77af125f-3b0e-4c14-94a4-bb9e0d0f3019');\n",
              "          const dataTable =\n",
              "            await google.colab.kernel.invokeFunction('convertToInteractive',\n",
              "                                                     [key], {});\n",
              "          if (!dataTable) return;\n",
              "\n",
              "          const docLinkHtml = 'Like what you see? Visit the ' +\n",
              "            '<a target=\"_blank\" href=https://colab.research.google.com/notebooks/data_table.ipynb>data table notebook</a>'\n",
              "            + ' to learn more about interactive tables.';\n",
              "          element.innerHTML = '';\n",
              "          dataTable['output_type'] = 'display_data';\n",
              "          await google.colab.output.renderOutput(dataTable, element);\n",
              "          const docLink = document.createElement('div');\n",
              "          docLink.innerHTML = docLinkHtml;\n",
              "          element.appendChild(docLink);\n",
              "        }\n",
              "      </script>\n",
              "    </div>\n",
              "  </div>\n",
              "  "
            ]
          },
          "metadata": {},
          "execution_count": 1177
        }
      ]
    },
    {
      "cell_type": "code",
      "source": [
        "print(\"len(X_train) : \", len(X_train))\n",
        "print(\"len(X_test) : \", len(X_test))\n",
        "print(\"len(y_train) : \", len(y_train))\n",
        "print(\"len(y_test) : \", len(y_test))\n",
        "#train มี 114 test มี 76 รวมเปน 190"
      ],
      "metadata": {
        "colab": {
          "base_uri": "https://localhost:8080/"
        },
        "id": "sxPzaXxarzRg",
        "outputId": "5cba46a6-7b94-4b4d-8f82-99051840b81d"
      },
      "execution_count": null,
      "outputs": [
        {
          "output_type": "stream",
          "name": "stdout",
          "text": [
            "len(X_train) :  94\n",
            "len(X_test) :  64\n",
            "len(y_train) :  94\n",
            "len(y_test) :  64\n"
          ]
        }
      ]
    },
    {
      "cell_type": "code",
      "source": [
        "lm = LinearRegression()"
      ],
      "metadata": {
        "id": "5MTNpfVJr2bv"
      },
      "execution_count": null,
      "outputs": []
    },
    {
      "cell_type": "code",
      "source": [
        "lm.fit(X_train,y_train)"
      ],
      "metadata": {
        "colab": {
          "base_uri": "https://localhost:8080/"
        },
        "id": "3t-9MpMir400",
        "outputId": "d46d1640-1391-42e6-f628-4bad31d9d9c7"
      },
      "execution_count": null,
      "outputs": [
        {
          "output_type": "execute_result",
          "data": {
            "text/plain": [
              "LinearRegression()"
            ]
          },
          "metadata": {},
          "execution_count": 1180
        }
      ]
    },
    {
      "cell_type": "code",
      "source": [
        "lm.coef_"
      ],
      "metadata": {
        "colab": {
          "base_uri": "https://localhost:8080/"
        },
        "id": "T-bu4RHar6L1",
        "outputId": "8e2bb91f-a684-4015-ccfd-8a05f417d13a"
      },
      "execution_count": null,
      "outputs": [
        {
          "output_type": "execute_result",
          "data": {
            "text/plain": [
              "array([ 0.0433141 , -0.27808609])"
            ]
          },
          "metadata": {},
          "execution_count": 1181
        }
      ]
    },
    {
      "cell_type": "code",
      "source": [
        "lm.intercept_"
      ],
      "metadata": {
        "colab": {
          "base_uri": "https://localhost:8080/"
        },
        "id": "hs55LrUer7io",
        "outputId": "fc9de14b-2835-482f-afe1-dd11f2ca423b"
      },
      "execution_count": null,
      "outputs": [
        {
          "output_type": "execute_result",
          "data": {
            "text/plain": [
              "4.412704383455261"
            ]
          },
          "metadata": {},
          "execution_count": 1182
        }
      ]
    },
    {
      "cell_type": "code",
      "source": [
        "print(\"LM MODEL\")\n",
        "print(\"\")\n",
        "print(y.name, \"=\")\n",
        "for i in range(0,len(x.columns)):\n",
        "  print(\"\", lm.coef_[i],\"*\",x.columns[i],\"   +\")\n",
        "print(\"\", lm.intercept_)"
      ],
      "metadata": {
        "colab": {
          "base_uri": "https://localhost:8080/"
        },
        "id": "rEFRiF-ar8Ns",
        "outputId": "1c037bd6-6605-4d52-810b-1f88421a18d4"
      },
      "execution_count": null,
      "outputs": [
        {
          "output_type": "stream",
          "name": "stdout",
          "text": [
            "LM MODEL\n",
            "\n",
            "y =\n",
            " 0.043314095591932285 * x3    +\n",
            " -0.27808608580396654 * x8    +\n",
            " 4.412704383455261\n"
          ]
        }
      ]
    },
    {
      "cell_type": "markdown",
      "source": [
        "#predict"
      ],
      "metadata": {
        "id": "S0f9stU6r9jr"
      }
    },
    {
      "cell_type": "code",
      "source": [
        "X_train=df[['x3','x8']]\n",
        "y_train=df['y']\n",
        "A_test=df_test[['x3','x8']]\n",
        "lm = LinearRegression()\n",
        "lm.fit(X_train,y_train)\n",
        "print(\"LM MODEL\")\n",
        "print(\"\")\n",
        "print(y.name, \"=\")\n",
        "for i in range(0,len(x.columns)):\n",
        "  print(\"\", lm.coef_[i],\"*\",x.columns[i],\"   +\")\n",
        "print(\"\", lm.intercept_)\n",
        "\n",
        "print(\"len(X_train) : \", len(X_train))\n",
        "#print(\"len(X_test) : \", len(X_test))\n",
        "print(\"len(y_train) : \", len(y_train))\n",
        "#print(\"len(y_test) : \", len(y_test))\n",
        "print(len(df.index))\n",
        "print(len(df_ori.index))"
      ],
      "metadata": {
        "colab": {
          "base_uri": "https://localhost:8080/"
        },
        "id": "PdFzjvfXK4Dn",
        "outputId": "805579ee-13aa-49f4-87eb-4e89616b5543"
      },
      "execution_count": null,
      "outputs": [
        {
          "output_type": "stream",
          "name": "stdout",
          "text": [
            "LM MODEL\n",
            "\n",
            "y =\n",
            " 0.04853195226978597 * x3    +\n",
            " -0.3517456395130211 * x8    +\n",
            " 3.908097843591234\n",
            "len(X_train) :  158\n",
            "len(y_train) :  158\n",
            "158\n",
            "190\n"
          ]
        }
      ]
    },
    {
      "cell_type": "code",
      "source": [
        "A_test"
      ],
      "metadata": {
        "colab": {
          "base_uri": "https://localhost:8080/",
          "height": 363
        },
        "id": "x6dgRsbJGxzo",
        "outputId": "7c6b8df6-f1b9-4392-a055-ac282adf10f1"
      },
      "execution_count": null,
      "outputs": [
        {
          "output_type": "execute_result",
          "data": {
            "text/plain": [
              "       x3     x8\n",
              "0 -105.75  -7.43\n",
              "1   91.05  10.59\n",
              "2  -82.59  -4.73\n",
              "3  -16.47   7.48\n",
              "4   51.85  -0.78\n",
              "5 -182.85  -8.59\n",
              "6   97.28  -8.06\n",
              "7 -220.91   9.71\n",
              "8  -16.47  -0.83\n",
              "9   69.88  -0.83"
            ],
            "text/html": [
              "\n",
              "  <div id=\"df-b66d800e-3902-44ae-9b9b-2c5edda1fcf6\">\n",
              "    <div class=\"colab-df-container\">\n",
              "      <div>\n",
              "<style scoped>\n",
              "    .dataframe tbody tr th:only-of-type {\n",
              "        vertical-align: middle;\n",
              "    }\n",
              "\n",
              "    .dataframe tbody tr th {\n",
              "        vertical-align: top;\n",
              "    }\n",
              "\n",
              "    .dataframe thead th {\n",
              "        text-align: right;\n",
              "    }\n",
              "</style>\n",
              "<table border=\"1\" class=\"dataframe\">\n",
              "  <thead>\n",
              "    <tr style=\"text-align: right;\">\n",
              "      <th></th>\n",
              "      <th>x3</th>\n",
              "      <th>x8</th>\n",
              "    </tr>\n",
              "  </thead>\n",
              "  <tbody>\n",
              "    <tr>\n",
              "      <th>0</th>\n",
              "      <td>-105.75</td>\n",
              "      <td>-7.43</td>\n",
              "    </tr>\n",
              "    <tr>\n",
              "      <th>1</th>\n",
              "      <td>91.05</td>\n",
              "      <td>10.59</td>\n",
              "    </tr>\n",
              "    <tr>\n",
              "      <th>2</th>\n",
              "      <td>-82.59</td>\n",
              "      <td>-4.73</td>\n",
              "    </tr>\n",
              "    <tr>\n",
              "      <th>3</th>\n",
              "      <td>-16.47</td>\n",
              "      <td>7.48</td>\n",
              "    </tr>\n",
              "    <tr>\n",
              "      <th>4</th>\n",
              "      <td>51.85</td>\n",
              "      <td>-0.78</td>\n",
              "    </tr>\n",
              "    <tr>\n",
              "      <th>5</th>\n",
              "      <td>-182.85</td>\n",
              "      <td>-8.59</td>\n",
              "    </tr>\n",
              "    <tr>\n",
              "      <th>6</th>\n",
              "      <td>97.28</td>\n",
              "      <td>-8.06</td>\n",
              "    </tr>\n",
              "    <tr>\n",
              "      <th>7</th>\n",
              "      <td>-220.91</td>\n",
              "      <td>9.71</td>\n",
              "    </tr>\n",
              "    <tr>\n",
              "      <th>8</th>\n",
              "      <td>-16.47</td>\n",
              "      <td>-0.83</td>\n",
              "    </tr>\n",
              "    <tr>\n",
              "      <th>9</th>\n",
              "      <td>69.88</td>\n",
              "      <td>-0.83</td>\n",
              "    </tr>\n",
              "  </tbody>\n",
              "</table>\n",
              "</div>\n",
              "      <button class=\"colab-df-convert\" onclick=\"convertToInteractive('df-b66d800e-3902-44ae-9b9b-2c5edda1fcf6')\"\n",
              "              title=\"Convert this dataframe to an interactive table.\"\n",
              "              style=\"display:none;\">\n",
              "        \n",
              "  <svg xmlns=\"http://www.w3.org/2000/svg\" height=\"24px\"viewBox=\"0 0 24 24\"\n",
              "       width=\"24px\">\n",
              "    <path d=\"M0 0h24v24H0V0z\" fill=\"none\"/>\n",
              "    <path d=\"M18.56 5.44l.94 2.06.94-2.06 2.06-.94-2.06-.94-.94-2.06-.94 2.06-2.06.94zm-11 1L8.5 8.5l.94-2.06 2.06-.94-2.06-.94L8.5 2.5l-.94 2.06-2.06.94zm10 10l.94 2.06.94-2.06 2.06-.94-2.06-.94-.94-2.06-.94 2.06-2.06.94z\"/><path d=\"M17.41 7.96l-1.37-1.37c-.4-.4-.92-.59-1.43-.59-.52 0-1.04.2-1.43.59L10.3 9.45l-7.72 7.72c-.78.78-.78 2.05 0 2.83L4 21.41c.39.39.9.59 1.41.59.51 0 1.02-.2 1.41-.59l7.78-7.78 2.81-2.81c.8-.78.8-2.07 0-2.86zM5.41 20L4 18.59l7.72-7.72 1.47 1.35L5.41 20z\"/>\n",
              "  </svg>\n",
              "      </button>\n",
              "      \n",
              "  <style>\n",
              "    .colab-df-container {\n",
              "      display:flex;\n",
              "      flex-wrap:wrap;\n",
              "      gap: 12px;\n",
              "    }\n",
              "\n",
              "    .colab-df-convert {\n",
              "      background-color: #E8F0FE;\n",
              "      border: none;\n",
              "      border-radius: 50%;\n",
              "      cursor: pointer;\n",
              "      display: none;\n",
              "      fill: #1967D2;\n",
              "      height: 32px;\n",
              "      padding: 0 0 0 0;\n",
              "      width: 32px;\n",
              "    }\n",
              "\n",
              "    .colab-df-convert:hover {\n",
              "      background-color: #E2EBFA;\n",
              "      box-shadow: 0px 1px 2px rgba(60, 64, 67, 0.3), 0px 1px 3px 1px rgba(60, 64, 67, 0.15);\n",
              "      fill: #174EA6;\n",
              "    }\n",
              "\n",
              "    [theme=dark] .colab-df-convert {\n",
              "      background-color: #3B4455;\n",
              "      fill: #D2E3FC;\n",
              "    }\n",
              "\n",
              "    [theme=dark] .colab-df-convert:hover {\n",
              "      background-color: #434B5C;\n",
              "      box-shadow: 0px 1px 3px 1px rgba(0, 0, 0, 0.15);\n",
              "      filter: drop-shadow(0px 1px 2px rgba(0, 0, 0, 0.3));\n",
              "      fill: #FFFFFF;\n",
              "    }\n",
              "  </style>\n",
              "\n",
              "      <script>\n",
              "        const buttonEl =\n",
              "          document.querySelector('#df-b66d800e-3902-44ae-9b9b-2c5edda1fcf6 button.colab-df-convert');\n",
              "        buttonEl.style.display =\n",
              "          google.colab.kernel.accessAllowed ? 'block' : 'none';\n",
              "\n",
              "        async function convertToInteractive(key) {\n",
              "          const element = document.querySelector('#df-b66d800e-3902-44ae-9b9b-2c5edda1fcf6');\n",
              "          const dataTable =\n",
              "            await google.colab.kernel.invokeFunction('convertToInteractive',\n",
              "                                                     [key], {});\n",
              "          if (!dataTable) return;\n",
              "\n",
              "          const docLinkHtml = 'Like what you see? Visit the ' +\n",
              "            '<a target=\"_blank\" href=https://colab.research.google.com/notebooks/data_table.ipynb>data table notebook</a>'\n",
              "            + ' to learn more about interactive tables.';\n",
              "          element.innerHTML = '';\n",
              "          dataTable['output_type'] = 'display_data';\n",
              "          await google.colab.output.renderOutput(dataTable, element);\n",
              "          const docLink = document.createElement('div');\n",
              "          docLink.innerHTML = docLinkHtml;\n",
              "          element.appendChild(docLink);\n",
              "        }\n",
              "      </script>\n",
              "    </div>\n",
              "  </div>\n",
              "  "
            ]
          },
          "metadata": {},
          "execution_count": 1185
        }
      ]
    },
    {
      "cell_type": "code",
      "source": [
        "y_pred_TEST = lm.predict(A_test)\n",
        "y_pred_TEST"
      ],
      "metadata": {
        "colab": {
          "base_uri": "https://localhost:8080/"
        },
        "id": "S5miW_N6VovN",
        "outputId": "3012b33a-bc2a-4a47-fd38-4b4f547172e3"
      },
      "execution_count": null,
      "outputs": [
        {
          "output_type": "execute_result",
          "data": {
            "text/plain": [
              "array([  1.38931399,   4.60194578,   1.56360078,   0.47771921,\n",
              "         6.69884117,  -1.94447459,  11.46435601, -10.22854589,\n",
              "         3.40072547,   7.59145955])"
            ]
          },
          "metadata": {},
          "execution_count": 1186
        }
      ]
    },
    {
      "cell_type": "code",
      "source": [
        "y_pred = lm.predict(X_test)"
      ],
      "metadata": {
        "id": "AzPAS8unsATv"
      },
      "execution_count": null,
      "outputs": []
    },
    {
      "cell_type": "code",
      "source": [
        "y_pred"
      ],
      "metadata": {
        "colab": {
          "base_uri": "https://localhost:8080/"
        },
        "id": "twPNkW6jsCLs",
        "outputId": "c689ab06-cd3a-4300-8d2e-f679010e1c39"
      },
      "execution_count": null,
      "outputs": [
        {
          "output_type": "execute_result",
          "data": {
            "text/plain": [
              "array([  6.65203096,   4.75723891,   0.84676187,   2.66546565,\n",
              "         8.45987552,  11.4768319 ,   1.17838738,   1.04532893,\n",
              "         4.00091127,  12.17530526,   6.44634906,  -1.4157736 ,\n",
              "        -1.82576734,  16.87411926,   4.80050285,  -2.86623356,\n",
              "         4.22537303,   8.46977817,  11.35035195,   7.74733376,\n",
              "         1.03152618,   2.362267  ,  -9.89682236,  -1.49425326,\n",
              "         1.75472971,   8.90869796,  -4.1585721 ,   4.40426129,\n",
              "         6.64064279,   3.90637513,   7.31421819,   4.58095669,\n",
              "        11.65182604,   6.99076817,   3.39285508,   5.20065124,\n",
              "        -0.60163618, -12.46647501,   7.40846962,   1.24183352,\n",
              "        13.09818142,  -0.75531622,   7.90398117,   3.9967194 ,\n",
              "        -0.19108338,  -1.2271042 ,   6.14014223,   1.94952717,\n",
              "         5.29934818,   1.083822  ,   4.2620148 ,   6.55798023,\n",
              "        -2.46880335,   0.99575354,  -0.32212863,   0.35745798,\n",
              "         6.7071868 ,   2.98714345,   9.18698403,   2.40220942,\n",
              "         4.10704874,   2.12802988,  17.2484652 ,  10.21899698])"
            ]
          },
          "metadata": {},
          "execution_count": 1188
        }
      ]
    },
    {
      "cell_type": "markdown",
      "source": [
        "#to evaluate with some evaluation methods"
      ],
      "metadata": {
        "id": "_njNvit4scZn"
      }
    },
    {
      "cell_type": "code",
      "source": [
        "import matplotlib.pyplot as plt"
      ],
      "metadata": {
        "id": "tnda-KvksEGI"
      },
      "execution_count": null,
      "outputs": []
    },
    {
      "cell_type": "code",
      "source": [
        "plt.scatter(y_test,y_pred)"
      ],
      "metadata": {
        "colab": {
          "base_uri": "https://localhost:8080/",
          "height": 282
        },
        "id": "yJlEXlWFsd4w",
        "outputId": "c1f1530c-a2d6-457d-e7b1-dfe4feedf0b2"
      },
      "execution_count": null,
      "outputs": [
        {
          "output_type": "execute_result",
          "data": {
            "text/plain": [
              "<matplotlib.collections.PathCollection at 0x7f86ae579dd0>"
            ]
          },
          "metadata": {},
          "execution_count": 1190
        },
        {
          "output_type": "display_data",
          "data": {
            "text/plain": [
              "<Figure size 432x288 with 1 Axes>"
            ],
            "image/png": "[encoded data removed]"
          },
          "metadata": {
            "needs_background": "light"
          }
        }
      ]
    },
    {
      "cell_type": "code",
      "source": [
        "rmse = metrics.mean_squared_error(y_test, y_pred, squared=False)\n",
        "print(\"RMSE = \", rmse)"
      ],
      "metadata": {
        "colab": {
          "base_uri": "https://localhost:8080/"
        },
        "id": "IdZ9nLiSsem8",
        "outputId": "354f88f9-8448-4de7-c8c6-8f86500cda54"
      },
      "execution_count": null,
      "outputs": [
        {
          "output_type": "stream",
          "name": "stdout",
          "text": [
            "RMSE =  4.8200130928067235\n"
          ]
        }
      ]
    },
    {
      "cell_type": "code",
      "source": [
        "mape = np.mean(np.abs((y_test - y_pred) / y_test)) * 100\n",
        "print(\"MAPE = \", mape, \"%\")"
      ],
      "metadata": {
        "colab": {
          "base_uri": "https://localhost:8080/"
        },
        "id": "0aryxVF7sf23",
        "outputId": "ce0a5f66-258c-42ea-caa0-636eaeff0cba"
      },
      "execution_count": null,
      "outputs": [
        {
          "output_type": "stream",
          "name": "stdout",
          "text": [
            "MAPE =  133.91059834766187 %\n"
          ]
        }
      ]
    },
    {
      "cell_type": "code",
      "source": [
        "#sns.pairplot(df,x_vars=df.columns[0:8],y_vars=df.columns[8])"
      ],
      "metadata": {
        "id": "jFT0JxtMzHCJ"
      },
      "execution_count": null,
      "outputs": []
    },
    {
      "cell_type": "markdown",
      "source": [
        "##Conclusion : \n",
        "\n",
        "*   RMSE Better than V.0 : 0.009286991260587\n",
        "\n",
        "*   MAPE : 7.1156831159575\n",
        "\n"
      ],
      "metadata": {
        "id": "Fd_kcpehto9l"
      }
    },
    {
      "cell_type": "markdown",
      "source": [
        "MAPE\tInterpretation\n",
        "< 10 %\tVery good\n",
        "10 % - 20 %\tGood\n",
        "20 % - 50 %\tOK\n",
        "> 50 %\tNot good"
      ],
      "metadata": {
        "id": "Bu0EGQTXuN_8"
      }
    },
    {
      "cell_type": "markdown",
      "source": [
        "RMSE values between 0.2 and 0.5 shows that the model can relatively predict the data accurately. In addition, Adjusted R-squared more than 0.75 is a very good value for showing the accuracy."
      ],
      "metadata": {
        "id": "Cbj8NNtJuWxP"
      }
    },
    {
      "cell_type": "code",
      "source": [],
      "metadata": {
        "id": "NjnxBLVzsgkn"
      },
      "execution_count": null,
      "outputs": []
    }
  ]
}